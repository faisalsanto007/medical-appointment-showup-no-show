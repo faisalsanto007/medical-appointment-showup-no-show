{
 "cells": [
  {
   "cell_type": "code",
   "execution_count": 2,
   "metadata": {},
   "outputs": [],
   "source": [
    "import numpy as np\n",
    "import pandas as pd\n",
    "import seaborn as sns\n",
    "import matplotlib.pyplot as plt\n",
    "from pprint import pprint\n",
    "\n",
    "%matplotlib inline"
   ]
  },
  {
   "cell_type": "code",
   "execution_count": 3,
   "metadata": {},
   "outputs": [
    {
     "name": "stdout",
     "output_type": "stream",
     "text": [
      "      PatientId  AppointmentID Gender          ScheduledDay  \\\n",
      "0  2.987250e+13        5642903      F  2016-04-29T18:38:08Z   \n",
      "1  5.589978e+14        5642503      M  2016-04-29T16:08:27Z   \n",
      "2  4.262962e+12        5642549      F  2016-04-29T16:19:04Z   \n",
      "3  8.679512e+11        5642828      F  2016-04-29T17:29:31Z   \n",
      "4  8.841186e+12        5642494      F  2016-04-29T16:07:23Z   \n",
      "\n",
      "         AppointmentDay  Age      Neighbourhood  Scholarship  Hipertension  \\\n",
      "0  2016-04-29T00:00:00Z   62    JARDIM DA PENHA            0             1   \n",
      "1  2016-04-29T00:00:00Z   56    JARDIM DA PENHA            0             0   \n",
      "2  2016-04-29T00:00:00Z   62      MATA DA PRAIA            0             0   \n",
      "3  2016-04-29T00:00:00Z    8  PONTAL DE CAMBURI            0             0   \n",
      "4  2016-04-29T00:00:00Z   56    JARDIM DA PENHA            0             1   \n",
      "\n",
      "   Diabetes  Alcoholism  Handcap  SMS_received No-show  \n",
      "0         0           0        0             0      No  \n",
      "1         0           0        0             0      No  \n",
      "2         0           0        0             0      No  \n",
      "3         0           0        0             0      No  \n",
      "4         1           0        0             0      No  \n"
     ]
    }
   ],
   "source": [
    "df = pd.read_csv('KaggleV2-May-2016.csv')\n",
    "\n",
    "print(df.head())"
   ]
  },
  {
   "cell_type": "code",
   "execution_count": 4,
   "metadata": {},
   "outputs": [
    {
     "name": "stdout",
     "output_type": "stream",
     "text": [
      "<class 'pandas.core.frame.DataFrame'>\n",
      "RangeIndex: 110527 entries, 0 to 110526\n",
      "Data columns (total 14 columns):\n",
      "PatientId         110527 non-null float64\n",
      "AppointmentID     110527 non-null int64\n",
      "Gender            110527 non-null object\n",
      "ScheduledDay      110527 non-null object\n",
      "AppointmentDay    110527 non-null object\n",
      "Age               110527 non-null int64\n",
      "Neighbourhood     110527 non-null object\n",
      "Scholarship       110527 non-null int64\n",
      "Hipertension      110527 non-null int64\n",
      "Diabetes          110527 non-null int64\n",
      "Alcoholism        110527 non-null int64\n",
      "Handcap           110527 non-null int64\n",
      "SMS_received      110527 non-null int64\n",
      "No-show           110527 non-null object\n",
      "dtypes: float64(1), int64(8), object(5)\n",
      "memory usage: 11.8+ MB\n"
     ]
    }
   ],
   "source": [
    "df.info()"
   ]
  },
  {
   "cell_type": "markdown",
   "metadata": {},
   "source": [
    "From the above info we can see that there are 14 columns in total.\n",
    "\n",
    "    There are 13 Independent Variables.\n",
    "    The Dependent Variable is 'NoShow'"
   ]
  },
  {
   "cell_type": "code",
   "execution_count": 5,
   "metadata": {},
   "outputs": [],
   "source": [
    "week_key = ['Monday','Tuesday','Wednesday','Thursday','Friday','Saturday','Sunday']"
   ]
  },
  {
   "cell_type": "markdown",
   "metadata": {},
   "source": [
    "### 1. data preprocessing\n",
    "checking for mismatched datatypes and convert each category appropriately. also, preparing data for modelling, creating logical variables and dropping redundant features"
   ]
  },
  {
   "cell_type": "code",
   "execution_count": null,
   "metadata": {},
   "outputs": [],
   "source": [
    "# PatientId should be int64, not float64\n",
    "\n",
    "# df['PatientId'] = df['PatientId'].astype('int64')"
   ]
  },
  {
   "cell_type": "code",
   "execution_count": 6,
   "metadata": {},
   "outputs": [],
   "source": [
    "# \"PatientId\" and \"AppointmentID\" columns are random system generated numbers. I'm dropping them.\n",
    "\n",
    "df = df.drop(['PatientId','AppointmentID'],axis=1)"
   ]
  },
  {
   "cell_type": "code",
   "execution_count": 8,
   "metadata": {},
   "outputs": [],
   "source": [
    "# Convert ScheduledDay and AppointmentDay to datetime64[ns]\n",
    "\n",
    "df['ScheduledDay'] = pd.to_datetime(df['ScheduledDay']).dt.date.astype('datetime64[ns]')\n",
    "df['AppointmentDay'] = pd.to_datetime(df['AppointmentDay']).dt.date.astype('datetime64[ns]')"
   ]
  },
  {
   "cell_type": "code",
   "execution_count": 9,
   "metadata": {},
   "outputs": [
    {
     "data": {
      "text/html": [
       "<div>\n",
       "<style scoped>\n",
       "    .dataframe tbody tr th:only-of-type {\n",
       "        vertical-align: middle;\n",
       "    }\n",
       "\n",
       "    .dataframe tbody tr th {\n",
       "        vertical-align: top;\n",
       "    }\n",
       "\n",
       "    .dataframe thead th {\n",
       "        text-align: right;\n",
       "    }\n",
       "</style>\n",
       "<table border=\"1\" class=\"dataframe\">\n",
       "  <thead>\n",
       "    <tr style=\"text-align: right;\">\n",
       "      <th></th>\n",
       "      <th>Gender</th>\n",
       "      <th>ScheduledDay</th>\n",
       "      <th>AppointmentDay</th>\n",
       "      <th>Age</th>\n",
       "      <th>Neighbourhood</th>\n",
       "      <th>Scholarship</th>\n",
       "      <th>Hipertension</th>\n",
       "      <th>Diabetes</th>\n",
       "      <th>Alcoholism</th>\n",
       "      <th>Handcap</th>\n",
       "      <th>SMS_received</th>\n",
       "      <th>No-show</th>\n",
       "    </tr>\n",
       "  </thead>\n",
       "  <tbody>\n",
       "    <tr>\n",
       "      <td>0</td>\n",
       "      <td>F</td>\n",
       "      <td>2016-04-29</td>\n",
       "      <td>2016-04-29</td>\n",
       "      <td>62</td>\n",
       "      <td>JARDIM DA PENHA</td>\n",
       "      <td>0</td>\n",
       "      <td>1</td>\n",
       "      <td>0</td>\n",
       "      <td>0</td>\n",
       "      <td>0</td>\n",
       "      <td>0</td>\n",
       "      <td>No</td>\n",
       "    </tr>\n",
       "    <tr>\n",
       "      <td>1</td>\n",
       "      <td>M</td>\n",
       "      <td>2016-04-29</td>\n",
       "      <td>2016-04-29</td>\n",
       "      <td>56</td>\n",
       "      <td>JARDIM DA PENHA</td>\n",
       "      <td>0</td>\n",
       "      <td>0</td>\n",
       "      <td>0</td>\n",
       "      <td>0</td>\n",
       "      <td>0</td>\n",
       "      <td>0</td>\n",
       "      <td>No</td>\n",
       "    </tr>\n",
       "    <tr>\n",
       "      <td>2</td>\n",
       "      <td>F</td>\n",
       "      <td>2016-04-29</td>\n",
       "      <td>2016-04-29</td>\n",
       "      <td>62</td>\n",
       "      <td>MATA DA PRAIA</td>\n",
       "      <td>0</td>\n",
       "      <td>0</td>\n",
       "      <td>0</td>\n",
       "      <td>0</td>\n",
       "      <td>0</td>\n",
       "      <td>0</td>\n",
       "      <td>No</td>\n",
       "    </tr>\n",
       "    <tr>\n",
       "      <td>3</td>\n",
       "      <td>F</td>\n",
       "      <td>2016-04-29</td>\n",
       "      <td>2016-04-29</td>\n",
       "      <td>8</td>\n",
       "      <td>PONTAL DE CAMBURI</td>\n",
       "      <td>0</td>\n",
       "      <td>0</td>\n",
       "      <td>0</td>\n",
       "      <td>0</td>\n",
       "      <td>0</td>\n",
       "      <td>0</td>\n",
       "      <td>No</td>\n",
       "    </tr>\n",
       "    <tr>\n",
       "      <td>4</td>\n",
       "      <td>F</td>\n",
       "      <td>2016-04-29</td>\n",
       "      <td>2016-04-29</td>\n",
       "      <td>56</td>\n",
       "      <td>JARDIM DA PENHA</td>\n",
       "      <td>0</td>\n",
       "      <td>1</td>\n",
       "      <td>1</td>\n",
       "      <td>0</td>\n",
       "      <td>0</td>\n",
       "      <td>0</td>\n",
       "      <td>No</td>\n",
       "    </tr>\n",
       "  </tbody>\n",
       "</table>\n",
       "</div>"
      ],
      "text/plain": [
       "  Gender ScheduledDay AppointmentDay  Age      Neighbourhood  Scholarship  \\\n",
       "0      F   2016-04-29     2016-04-29   62    JARDIM DA PENHA            0   \n",
       "1      M   2016-04-29     2016-04-29   56    JARDIM DA PENHA            0   \n",
       "2      F   2016-04-29     2016-04-29   62      MATA DA PRAIA            0   \n",
       "3      F   2016-04-29     2016-04-29    8  PONTAL DE CAMBURI            0   \n",
       "4      F   2016-04-29     2016-04-29   56    JARDIM DA PENHA            0   \n",
       "\n",
       "   Hipertension  Diabetes  Alcoholism  Handcap  SMS_received No-show  \n",
       "0             1         0           0        0             0      No  \n",
       "1             0         0           0        0             0      No  \n",
       "2             0         0           0        0             0      No  \n",
       "3             0         0           0        0             0      No  \n",
       "4             1         1           0        0             0      No  "
      ]
     },
     "execution_count": 9,
     "metadata": {},
     "output_type": "execute_result"
    }
   ],
   "source": [
    "df.head()"
   ]
  },
  {
   "cell_type": "code",
   "execution_count": 10,
   "metadata": {},
   "outputs": [
    {
     "name": "stdout",
     "output_type": "stream",
     "text": [
      "Index(['Gender', 'ScheduledDay', 'AppointmentDay', 'Age', 'Neighbourhood',\n",
      "       'Scholarship', 'Hypertension', 'Diabetes', 'Alcoholism', 'Handicap',\n",
      "       'SMSReceived', 'NoShow'],\n",
      "      dtype='object')\n"
     ]
    }
   ],
   "source": [
    "# lets fix couple column names\n",
    "\n",
    "df.rename(columns={\"Hipertension\": \"Hypertension\",\"Handcap\":\"Handicap\", \"SMS_received\": \"SMSReceived\", \n",
    "                       \"No-show\": \"NoShow\"},inplace=True)\n",
    "\n",
    "print(df.columns)"
   ]
  },
  {
   "cell_type": "code",
   "execution_count": 11,
   "metadata": {},
   "outputs": [
    {
     "name": "stdout",
     "output_type": "stream",
     "text": [
      "[-1, 0, 1, 2, 3, 4, 5, 6, 7, 8, 9, 10, 11, 12, 13, 14, 15, 16, 17, 18, 19, 20, 21, 22, 23, 24, 25, 26, 27, 28, 29, 30, 31, 32, 33, 34, 35, 36, 37, 38, 39, 40, 41, 42, 43, 44, 45, 46, 47, 48, 49, 50, 51, 52, 53, 54, 55, 56, 57, 58, 59, 60, 61, 62, 63, 64, 65, 66, 67, 68, 69, 70, 71, 72, 73, 74, 75, 76, 77, 78, 79, 80, 81, 82, 83, 84, 85, 86, 87, 88, 89, 90, 91, 92, 93, 94, 95, 96, 97, 98, 99, 100, 102, 115]\n"
     ]
    }
   ],
   "source": [
    "# Checking Age\n",
    "\n",
    "print(sorted(df['Age'].unique()))"
   ]
  },
  {
   "cell_type": "code",
   "execution_count": 12,
   "metadata": {},
   "outputs": [
    {
     "data": {
      "text/html": [
       "<div>\n",
       "<style scoped>\n",
       "    .dataframe tbody tr th:only-of-type {\n",
       "        vertical-align: middle;\n",
       "    }\n",
       "\n",
       "    .dataframe tbody tr th {\n",
       "        vertical-align: top;\n",
       "    }\n",
       "\n",
       "    .dataframe thead th {\n",
       "        text-align: right;\n",
       "    }\n",
       "</style>\n",
       "<table border=\"1\" class=\"dataframe\">\n",
       "  <thead>\n",
       "    <tr style=\"text-align: right;\">\n",
       "      <th></th>\n",
       "      <th>Gender</th>\n",
       "      <th>ScheduledDay</th>\n",
       "      <th>AppointmentDay</th>\n",
       "      <th>Age</th>\n",
       "      <th>Neighbourhood</th>\n",
       "      <th>Scholarship</th>\n",
       "      <th>Hypertension</th>\n",
       "      <th>Diabetes</th>\n",
       "      <th>Alcoholism</th>\n",
       "      <th>Handicap</th>\n",
       "      <th>SMSReceived</th>\n",
       "      <th>NoShow</th>\n",
       "    </tr>\n",
       "  </thead>\n",
       "  <tbody>\n",
       "    <tr>\n",
       "      <td>99832</td>\n",
       "      <td>F</td>\n",
       "      <td>2016-06-06</td>\n",
       "      <td>2016-06-06</td>\n",
       "      <td>-1</td>\n",
       "      <td>ROMÃO</td>\n",
       "      <td>0</td>\n",
       "      <td>0</td>\n",
       "      <td>0</td>\n",
       "      <td>0</td>\n",
       "      <td>0</td>\n",
       "      <td>0</td>\n",
       "      <td>No</td>\n",
       "    </tr>\n",
       "  </tbody>\n",
       "</table>\n",
       "</div>"
      ],
      "text/plain": [
       "      Gender ScheduledDay AppointmentDay  Age Neighbourhood  Scholarship  \\\n",
       "99832      F   2016-06-06     2016-06-06   -1         ROMÃO            0   \n",
       "\n",
       "       Hypertension  Diabetes  Alcoholism  Handicap  SMSReceived NoShow  \n",
       "99832             0         0           0         0            0     No  "
      ]
     },
     "execution_count": 12,
     "metadata": {},
     "output_type": "execute_result"
    }
   ],
   "source": [
    "df[df['Age'] == -1]"
   ]
  },
  {
   "cell_type": "code",
   "execution_count": 13,
   "metadata": {},
   "outputs": [
    {
     "data": {
      "text/html": [
       "<div>\n",
       "<style scoped>\n",
       "    .dataframe tbody tr th:only-of-type {\n",
       "        vertical-align: middle;\n",
       "    }\n",
       "\n",
       "    .dataframe tbody tr th {\n",
       "        vertical-align: top;\n",
       "    }\n",
       "\n",
       "    .dataframe thead th {\n",
       "        text-align: right;\n",
       "    }\n",
       "</style>\n",
       "<table border=\"1\" class=\"dataframe\">\n",
       "  <thead>\n",
       "    <tr style=\"text-align: right;\">\n",
       "      <th></th>\n",
       "      <th>Gender</th>\n",
       "      <th>ScheduledDay</th>\n",
       "      <th>AppointmentDay</th>\n",
       "      <th>Age</th>\n",
       "      <th>Neighbourhood</th>\n",
       "      <th>Scholarship</th>\n",
       "      <th>Hypertension</th>\n",
       "      <th>Diabetes</th>\n",
       "      <th>Alcoholism</th>\n",
       "      <th>Handicap</th>\n",
       "      <th>SMSReceived</th>\n",
       "      <th>NoShow</th>\n",
       "    </tr>\n",
       "  </thead>\n",
       "  <tbody>\n",
       "    <tr>\n",
       "      <td>63912</td>\n",
       "      <td>F</td>\n",
       "      <td>2016-05-16</td>\n",
       "      <td>2016-05-19</td>\n",
       "      <td>115</td>\n",
       "      <td>ANDORINHAS</td>\n",
       "      <td>0</td>\n",
       "      <td>0</td>\n",
       "      <td>0</td>\n",
       "      <td>0</td>\n",
       "      <td>1</td>\n",
       "      <td>0</td>\n",
       "      <td>Yes</td>\n",
       "    </tr>\n",
       "    <tr>\n",
       "      <td>63915</td>\n",
       "      <td>F</td>\n",
       "      <td>2016-05-16</td>\n",
       "      <td>2016-05-19</td>\n",
       "      <td>115</td>\n",
       "      <td>ANDORINHAS</td>\n",
       "      <td>0</td>\n",
       "      <td>0</td>\n",
       "      <td>0</td>\n",
       "      <td>0</td>\n",
       "      <td>1</td>\n",
       "      <td>0</td>\n",
       "      <td>Yes</td>\n",
       "    </tr>\n",
       "    <tr>\n",
       "      <td>68127</td>\n",
       "      <td>F</td>\n",
       "      <td>2016-04-08</td>\n",
       "      <td>2016-05-16</td>\n",
       "      <td>115</td>\n",
       "      <td>ANDORINHAS</td>\n",
       "      <td>0</td>\n",
       "      <td>0</td>\n",
       "      <td>0</td>\n",
       "      <td>0</td>\n",
       "      <td>1</td>\n",
       "      <td>0</td>\n",
       "      <td>Yes</td>\n",
       "    </tr>\n",
       "    <tr>\n",
       "      <td>76284</td>\n",
       "      <td>F</td>\n",
       "      <td>2016-05-30</td>\n",
       "      <td>2016-05-30</td>\n",
       "      <td>115</td>\n",
       "      <td>ANDORINHAS</td>\n",
       "      <td>0</td>\n",
       "      <td>0</td>\n",
       "      <td>0</td>\n",
       "      <td>0</td>\n",
       "      <td>1</td>\n",
       "      <td>0</td>\n",
       "      <td>No</td>\n",
       "    </tr>\n",
       "    <tr>\n",
       "      <td>97666</td>\n",
       "      <td>F</td>\n",
       "      <td>2016-05-19</td>\n",
       "      <td>2016-06-03</td>\n",
       "      <td>115</td>\n",
       "      <td>SÃO JOSÉ</td>\n",
       "      <td>0</td>\n",
       "      <td>1</td>\n",
       "      <td>0</td>\n",
       "      <td>0</td>\n",
       "      <td>0</td>\n",
       "      <td>1</td>\n",
       "      <td>No</td>\n",
       "    </tr>\n",
       "  </tbody>\n",
       "</table>\n",
       "</div>"
      ],
      "text/plain": [
       "      Gender ScheduledDay AppointmentDay  Age Neighbourhood  Scholarship  \\\n",
       "63912      F   2016-05-16     2016-05-19  115    ANDORINHAS            0   \n",
       "63915      F   2016-05-16     2016-05-19  115    ANDORINHAS            0   \n",
       "68127      F   2016-04-08     2016-05-16  115    ANDORINHAS            0   \n",
       "76284      F   2016-05-30     2016-05-30  115    ANDORINHAS            0   \n",
       "97666      F   2016-05-19     2016-06-03  115      SÃO JOSÉ            0   \n",
       "\n",
       "       Hypertension  Diabetes  Alcoholism  Handicap  SMSReceived NoShow  \n",
       "63912             0         0           0         1            0    Yes  \n",
       "63915             0         0           0         1            0    Yes  \n",
       "68127             0         0           0         1            0    Yes  \n",
       "76284             0         0           0         1            0     No  \n",
       "97666             1         0           0         0            1     No  "
      ]
     },
     "execution_count": 13,
     "metadata": {},
     "output_type": "execute_result"
    }
   ],
   "source": [
    "df[df['Age'] == 115]"
   ]
  },
  {
   "cell_type": "markdown",
   "metadata": {},
   "source": [
    "\"Age\" column has negative value and anomalous entries of 115. These entries are outliers in our dataset. we'll remove this entries"
   ]
  },
  {
   "cell_type": "code",
   "execution_count": 14,
   "metadata": {},
   "outputs": [],
   "source": [
    "# Removing those entries\n",
    "\n",
    "df = df[(df['Age'] < 115) & (df['Age'] >= 0)]"
   ]
  },
  {
   "cell_type": "code",
   "execution_count": 15,
   "metadata": {},
   "outputs": [
    {
     "name": "stdout",
     "output_type": "stream",
     "text": [
      "Patients with `Age` equal to 0 -> 3539\n"
     ]
    }
   ],
   "source": [
    "# also let's check patients with age 0\n",
    "\n",
    "print(f\"Patients with `Age` equal to 0 -> {df[df.Age == 0].shape[0]}\")"
   ]
  },
  {
   "cell_type": "markdown",
   "metadata": {},
   "source": [
    "As we have 3539 patients with Age equal to 0 we are assuming that these are the small babies with few months of Age. **Babies don't have Hypertension or Diabetes or Alcoholism.** we will check these features for the above records to see if our assumption is correct."
   ]
  },
  {
   "cell_type": "code",
   "execution_count": 16,
   "metadata": {},
   "outputs": [
    {
     "data": {
      "text/html": [
       "<div>\n",
       "<style scoped>\n",
       "    .dataframe tbody tr th:only-of-type {\n",
       "        vertical-align: middle;\n",
       "    }\n",
       "\n",
       "    .dataframe tbody tr th {\n",
       "        vertical-align: top;\n",
       "    }\n",
       "\n",
       "    .dataframe thead th {\n",
       "        text-align: right;\n",
       "    }\n",
       "</style>\n",
       "<table border=\"1\" class=\"dataframe\">\n",
       "  <thead>\n",
       "    <tr style=\"text-align: right;\">\n",
       "      <th></th>\n",
       "      <th>Gender</th>\n",
       "      <th>ScheduledDay</th>\n",
       "      <th>AppointmentDay</th>\n",
       "      <th>Age</th>\n",
       "      <th>Neighbourhood</th>\n",
       "      <th>Scholarship</th>\n",
       "      <th>Hypertension</th>\n",
       "      <th>Diabetes</th>\n",
       "      <th>Alcoholism</th>\n",
       "      <th>Handicap</th>\n",
       "      <th>SMSReceived</th>\n",
       "      <th>NoShow</th>\n",
       "    </tr>\n",
       "  </thead>\n",
       "  <tbody>\n",
       "  </tbody>\n",
       "</table>\n",
       "</div>"
      ],
      "text/plain": [
       "Empty DataFrame\n",
       "Columns: [Gender, ScheduledDay, AppointmentDay, Age, Neighbourhood, Scholarship, Hypertension, Diabetes, Alcoholism, Handicap, SMSReceived, NoShow]\n",
       "Index: []"
      ]
     },
     "execution_count": 16,
     "metadata": {},
     "output_type": "execute_result"
    }
   ],
   "source": [
    "df[(df.Age <= 0) & ((df.Hypertension.astype(int) == 1) | (df.Diabetes.astype(int) == 1) | (df.Alcoholism.astype(int) == 1))]"
   ]
  },
  {
   "cell_type": "markdown",
   "metadata": {},
   "source": [
    "As we have no records above, it is confirmed that Age value of 0 indeed represents babies who are just few months old."
   ]
  },
  {
   "cell_type": "code",
   "execution_count": 17,
   "metadata": {},
   "outputs": [
    {
     "name": "stdout",
     "output_type": "stream",
     "text": [
      "Unique Values in `ScheduledDay` => ['2015-11-10' '2015-12-03' '2015-12-07' '2015-12-08' '2015-12-14'\n",
      " '2015-12-15' '2016-01-04' '2016-01-05' '2016-01-07' '2016-01-11'\n",
      " '2016-01-13' '2016-01-14' '2016-01-19' '2016-01-20' '2016-01-21'\n",
      " '2016-01-22' '2016-01-25' '2016-01-26' '2016-01-27' '2016-01-28'\n",
      " '2016-01-29' '2016-02-01' '2016-02-02' '2016-02-03' '2016-02-04'\n",
      " '2016-02-05' '2016-02-11' '2016-02-12' '2016-02-15' '2016-02-16'\n",
      " '2016-02-17' '2016-02-18' '2016-02-19' '2016-02-22' '2016-02-23'\n",
      " '2016-02-24' '2016-02-25' '2016-02-26' '2016-02-29' '2016-03-01'\n",
      " '2016-03-02' '2016-03-03' '2016-03-04' '2016-03-05' '2016-03-07'\n",
      " '2016-03-08' '2016-03-09' '2016-03-10' '2016-03-11' '2016-03-14'\n",
      " '2016-03-15' '2016-03-16' '2016-03-17' '2016-03-18' '2016-03-19'\n",
      " '2016-03-21' '2016-03-22' '2016-03-23' '2016-03-28' '2016-03-29'\n",
      " '2016-03-30' '2016-03-31' '2016-04-01' '2016-04-05' '2016-04-06'\n",
      " '2016-04-07' '2016-04-08' '2016-04-09' '2016-04-11' '2016-04-12'\n",
      " '2016-04-13' '2016-04-14' '2016-04-15' '2016-04-16' '2016-04-18'\n",
      " '2016-04-19' '2016-04-20' '2016-04-25' '2016-04-26' '2016-04-27'\n",
      " '2016-04-28' '2016-04-29' '2016-04-30' '2016-05-02' '2016-05-03'\n",
      " '2016-05-04' '2016-05-05' '2016-05-06' '2016-05-07' '2016-05-09'\n",
      " '2016-05-10' '2016-05-11' '2016-05-12' '2016-05-13' '2016-05-14'\n",
      " '2016-05-16' '2016-05-17' '2016-05-18' '2016-05-19' '2016-05-20'\n",
      " '2016-05-24' '2016-05-25' '2016-05-30' '2016-05-31' '2016-06-01'\n",
      " '2016-06-02' '2016-06-03' '2016-06-04' '2016-06-06' '2016-06-07'\n",
      " '2016-06-08']\n"
     ]
    }
   ],
   "source": [
    "# printing unique Values for 'ScheduledDay'\n",
    "\n",
    "print(f\"Unique Values in `ScheduledDay` => {np.sort(df.ScheduledDay.dt.strftime('%Y-%m-%d').unique())}\")"
   ]
  },
  {
   "cell_type": "markdown",
   "metadata": {},
   "source": [
    "We can see from the above details that the ScheduledDay for appointments are ranging from 2015-11-10 to 2016-06-08 and **that's around 7 months of data.**"
   ]
  },
  {
   "cell_type": "code",
   "execution_count": 18,
   "metadata": {},
   "outputs": [
    {
     "name": "stdout",
     "output_type": "stream",
     "text": [
      "Unique Values in `AppointmentDay` => ['2016-04-29' '2016-05-02' '2016-05-03' '2016-05-04' '2016-05-05'\n",
      " '2016-05-06' '2016-05-09' '2016-05-10' '2016-05-11' '2016-05-12'\n",
      " '2016-05-13' '2016-05-14' '2016-05-16' '2016-05-17' '2016-05-18'\n",
      " '2016-05-19' '2016-05-20' '2016-05-24' '2016-05-25' '2016-05-30'\n",
      " '2016-05-31' '2016-06-01' '2016-06-02' '2016-06-03' '2016-06-06'\n",
      " '2016-06-07' '2016-06-08']\n"
     ]
    }
   ],
   "source": [
    "# printing unique Values for 'AppointmentDay'\n",
    "\n",
    "print(f\"Unique Values in `AppointmentDay` => {np.sort(df.AppointmentDay.dt.strftime('%Y-%m-%d').unique())}\")"
   ]
  },
  {
   "cell_type": "markdown",
   "metadata": {},
   "source": [
    "From the above detail we can see that AppointmentDay ranges from 2016-04-29 to 2016-06-08. **The AppointmentDay spans just above 1 Month in contrast to the ScheduledDay that spans around 7 Months.**"
   ]
  },
  {
   "cell_type": "code",
   "execution_count": 19,
   "metadata": {},
   "outputs": [],
   "source": [
    "# now cleaning up \"ScheduledDay\" and \"AppointmentDay\" columns\n",
    "\n",
    "#df_raw['ScheduledMonth'] = df_raw['ScheduledDay'].dt.month\n",
    "#df_raw['ScheduledDayofWeek'] = df_raw['ScheduledDay'].dt.day_name()\n",
    "#df_raw['ScheduledHour'] = df_raw['ScheduledDay'].dt.hour\n",
    "\n",
    "#df_raw['AppointmentMonth'] = df_raw['AppointmentDay'].dt.month\n",
    "#df_raw['AppointmentDayofWeek'] = df_raw['AppointmentDay'].dt.day_name()\n",
    "#df_raw['AppointmentHour'] = df_raw['AppointmentDay'].dt.hour"
   ]
  },
  {
   "cell_type": "code",
   "execution_count": 21,
   "metadata": {},
   "outputs": [
    {
     "name": "stderr",
     "output_type": "stream",
     "text": [
      "C:\\ProgramData\\Anaconda3\\lib\\site-packages\\ipykernel_launcher.py:1: SettingWithCopyWarning: \n",
      "A value is trying to be set on a copy of a slice from a DataFrame.\n",
      "Try using .loc[row_indexer,col_indexer] = value instead\n",
      "\n",
      "See the caveats in the documentation: http://pandas.pydata.org/pandas-docs/stable/user_guide/indexing.html#returning-a-view-versus-a-copy\n",
      "  \"\"\"Entry point for launching an IPython kernel.\n",
      "C:\\ProgramData\\Anaconda3\\lib\\site-packages\\ipykernel_launcher.py:2: SettingWithCopyWarning: \n",
      "A value is trying to be set on a copy of a slice from a DataFrame.\n",
      "Try using .loc[row_indexer,col_indexer] = value instead\n",
      "\n",
      "See the caveats in the documentation: http://pandas.pydata.org/pandas-docs/stable/user_guide/indexing.html#returning-a-view-versus-a-copy\n",
      "  \n"
     ]
    }
   ],
   "source": [
    "df['AppointmentDayofWeek'] = df['AppointmentDay'].dt.weekday_name\n",
    "df['ScheduledDayofWeek'] = df['ScheduledDay'].dt.weekday_name"
   ]
  },
  {
   "cell_type": "code",
   "execution_count": 22,
   "metadata": {},
   "outputs": [
    {
     "name": "stdout",
     "output_type": "stream",
     "text": [
      "Unique Values in `Gender` => ['F' 'M']\n",
      "Unique Values in `Scholarship` => [0 1]\n",
      "Unique Values in `Hypertension` => [1 0]\n",
      "Unique Values in `Diabetes` => [0 1]\n",
      "Unique Values in `Alcoholism` => [0 1]\n",
      "Unique Values in `Handicap` => [0 1 2 3 4]\n",
      "Unique Values in `SMSReceived` => [0 1]\n"
     ]
    }
   ],
   "source": [
    "# Print Unique Values\n",
    "\n",
    "print(f\"Unique Values in `Gender` => {df.Gender.unique()}\")\n",
    "print(f\"Unique Values in `Scholarship` => {df.Scholarship.unique()}\")\n",
    "print(f\"Unique Values in `Hypertension` => {df.Hypertension.unique()}\")\n",
    "print(f\"Unique Values in `Diabetes` => {df.Diabetes.unique()}\")\n",
    "print(f\"Unique Values in `Alcoholism` => {df.Alcoholism.unique()}\")\n",
    "print(f\"Unique Values in `Handicap` => {df.Handicap.unique()}\")\n",
    "print(f\"Unique Values in `SMSReceived` => {df.SMSReceived.unique()}\")"
   ]
  },
  {
   "cell_type": "code",
   "execution_count": 1,
   "metadata": {},
   "outputs": [],
   "source": [
    "# From the above detail we can see that except for Handicap which has four values and Gender which has 'M' and 'F' all the other features have 'Yes' or 'No' kind of values. So, we will convert those columns to 'object' type."
   ]
  },
  {
   "cell_type": "code",
   "execution_count": 23,
   "metadata": {},
   "outputs": [],
   "source": [
    "#df['Scholarship'] = df['Scholarship'].astype('object')\n",
    "#df['Hypertension'] = df['Hypertension'].astype('object')\n",
    "#df['Diabetes'] = df['Diabetes'].astype('object')\n",
    "#df['Alcoholism'] = df['Alcoholism'].astype('object')\n",
    "#df['Handicap'] = df['Handicap'].astype('object')\n",
    "#df['SMSReceived'] = df['SMSReceived'].astype('object')"
   ]
  },
  {
   "cell_type": "code",
   "execution_count": 24,
   "metadata": {},
   "outputs": [
    {
     "data": {
      "text/html": [
       "<div>\n",
       "<style scoped>\n",
       "    .dataframe tbody tr th:only-of-type {\n",
       "        vertical-align: middle;\n",
       "    }\n",
       "\n",
       "    .dataframe tbody tr th {\n",
       "        vertical-align: top;\n",
       "    }\n",
       "\n",
       "    .dataframe thead th {\n",
       "        text-align: right;\n",
       "    }\n",
       "</style>\n",
       "<table border=\"1\" class=\"dataframe\">\n",
       "  <thead>\n",
       "    <tr style=\"text-align: right;\">\n",
       "      <th></th>\n",
       "      <th>Gender</th>\n",
       "      <th>ScheduledDay</th>\n",
       "      <th>AppointmentDay</th>\n",
       "      <th>Age</th>\n",
       "      <th>Neighbourhood</th>\n",
       "      <th>Scholarship</th>\n",
       "      <th>Hypertension</th>\n",
       "      <th>Diabetes</th>\n",
       "      <th>Alcoholism</th>\n",
       "      <th>Handicap</th>\n",
       "      <th>SMSReceived</th>\n",
       "      <th>NoShow</th>\n",
       "      <th>AppointmentDayofWeek</th>\n",
       "      <th>ScheduledDayofWeek</th>\n",
       "    </tr>\n",
       "  </thead>\n",
       "  <tbody>\n",
       "    <tr>\n",
       "      <td>776</td>\n",
       "      <td>M</td>\n",
       "      <td>2016-04-05</td>\n",
       "      <td>2016-04-29</td>\n",
       "      <td>24</td>\n",
       "      <td>JARDIM DA PENHA</td>\n",
       "      <td>0</td>\n",
       "      <td>0</td>\n",
       "      <td>0</td>\n",
       "      <td>0</td>\n",
       "      <td>0</td>\n",
       "      <td>1</td>\n",
       "      <td>No</td>\n",
       "      <td>Friday</td>\n",
       "      <td>Tuesday</td>\n",
       "    </tr>\n",
       "    <tr>\n",
       "      <td>79426</td>\n",
       "      <td>M</td>\n",
       "      <td>2016-05-19</td>\n",
       "      <td>2016-05-19</td>\n",
       "      <td>4</td>\n",
       "      <td>SÃO PEDRO</td>\n",
       "      <td>0</td>\n",
       "      <td>0</td>\n",
       "      <td>0</td>\n",
       "      <td>0</td>\n",
       "      <td>0</td>\n",
       "      <td>0</td>\n",
       "      <td>No</td>\n",
       "      <td>Thursday</td>\n",
       "      <td>Thursday</td>\n",
       "    </tr>\n",
       "    <tr>\n",
       "      <td>57851</td>\n",
       "      <td>F</td>\n",
       "      <td>2016-05-13</td>\n",
       "      <td>2016-05-13</td>\n",
       "      <td>0</td>\n",
       "      <td>NOVA PALESTINA</td>\n",
       "      <td>0</td>\n",
       "      <td>0</td>\n",
       "      <td>0</td>\n",
       "      <td>0</td>\n",
       "      <td>0</td>\n",
       "      <td>0</td>\n",
       "      <td>No</td>\n",
       "      <td>Friday</td>\n",
       "      <td>Friday</td>\n",
       "    </tr>\n",
       "    <tr>\n",
       "      <td>62019</td>\n",
       "      <td>F</td>\n",
       "      <td>2016-05-09</td>\n",
       "      <td>2016-05-09</td>\n",
       "      <td>26</td>\n",
       "      <td>PRAIA DO SUÁ</td>\n",
       "      <td>0</td>\n",
       "      <td>0</td>\n",
       "      <td>0</td>\n",
       "      <td>1</td>\n",
       "      <td>0</td>\n",
       "      <td>0</td>\n",
       "      <td>No</td>\n",
       "      <td>Monday</td>\n",
       "      <td>Monday</td>\n",
       "    </tr>\n",
       "    <tr>\n",
       "      <td>102108</td>\n",
       "      <td>F</td>\n",
       "      <td>2016-06-06</td>\n",
       "      <td>2016-06-08</td>\n",
       "      <td>43</td>\n",
       "      <td>MARUÍPE</td>\n",
       "      <td>0</td>\n",
       "      <td>0</td>\n",
       "      <td>0</td>\n",
       "      <td>0</td>\n",
       "      <td>0</td>\n",
       "      <td>0</td>\n",
       "      <td>No</td>\n",
       "      <td>Wednesday</td>\n",
       "      <td>Monday</td>\n",
       "    </tr>\n",
       "  </tbody>\n",
       "</table>\n",
       "</div>"
      ],
      "text/plain": [
       "       Gender ScheduledDay AppointmentDay  Age    Neighbourhood  Scholarship  \\\n",
       "776         M   2016-04-05     2016-04-29   24  JARDIM DA PENHA            0   \n",
       "79426       M   2016-05-19     2016-05-19    4        SÃO PEDRO            0   \n",
       "57851       F   2016-05-13     2016-05-13    0   NOVA PALESTINA            0   \n",
       "62019       F   2016-05-09     2016-05-09   26     PRAIA DO SUÁ            0   \n",
       "102108      F   2016-06-06     2016-06-08   43          MARUÍPE            0   \n",
       "\n",
       "        Hypertension  Diabetes  Alcoholism  Handicap  SMSReceived NoShow  \\\n",
       "776                0         0           0         0            1     No   \n",
       "79426              0         0           0         0            0     No   \n",
       "57851              0         0           0         0            0     No   \n",
       "62019              0         0           1         0            0     No   \n",
       "102108             0         0           0         0            0     No   \n",
       "\n",
       "       AppointmentDayofWeek ScheduledDayofWeek  \n",
       "776                  Friday            Tuesday  \n",
       "79426              Thursday           Thursday  \n",
       "57851                Friday             Friday  \n",
       "62019                Monday             Monday  \n",
       "102108            Wednesday             Monday  "
      ]
     },
     "execution_count": 24,
     "metadata": {},
     "output_type": "execute_result"
    }
   ],
   "source": [
    "df.sample(n=5)"
   ]
  },
  {
   "cell_type": "code",
   "execution_count": 25,
   "metadata": {},
   "outputs": [
    {
     "name": "stderr",
     "output_type": "stream",
     "text": [
      "C:\\ProgramData\\Anaconda3\\lib\\site-packages\\ipykernel_launcher.py:3: SettingWithCopyWarning: \n",
      "A value is trying to be set on a copy of a slice from a DataFrame.\n",
      "Try using .loc[row_indexer,col_indexer] = value instead\n",
      "\n",
      "See the caveats in the documentation: http://pandas.pydata.org/pandas-docs/stable/user_guide/indexing.html#returning-a-view-versus-a-copy\n",
      "  This is separate from the ipykernel package so we can avoid doing imports until\n",
      "C:\\ProgramData\\Anaconda3\\lib\\site-packages\\ipykernel_launcher.py:4: SettingWithCopyWarning: \n",
      "A value is trying to be set on a copy of a slice from a DataFrame.\n",
      "Try using .loc[row_indexer,col_indexer] = value instead\n",
      "\n",
      "See the caveats in the documentation: http://pandas.pydata.org/pandas-docs/stable/user_guide/indexing.html#returning-a-view-versus-a-copy\n",
      "  after removing the cwd from sys.path.\n"
     ]
    }
   ],
   "source": [
    "# calculating waiting Time in Days of the Patients\n",
    "\n",
    "df['Waiting_Time_days'] = df['AppointmentDay'] - df['ScheduledDay']\n",
    "df['Waiting_Time_days'] = df['Waiting_Time_days'].dt.days"
   ]
  },
  {
   "cell_type": "code",
   "execution_count": 26,
   "metadata": {},
   "outputs": [
    {
     "name": "stdout",
     "output_type": "stream",
     "text": [
      "<class 'pandas.core.frame.DataFrame'>\n",
      "Int64Index: 110521 entries, 0 to 110526\n",
      "Data columns (total 15 columns):\n",
      "Gender                  110521 non-null object\n",
      "ScheduledDay            110521 non-null datetime64[ns]\n",
      "AppointmentDay          110521 non-null datetime64[ns]\n",
      "Age                     110521 non-null int64\n",
      "Neighbourhood           110521 non-null object\n",
      "Scholarship             110521 non-null int64\n",
      "Hypertension            110521 non-null int64\n",
      "Diabetes                110521 non-null int64\n",
      "Alcoholism              110521 non-null int64\n",
      "Handicap                110521 non-null int64\n",
      "SMSReceived             110521 non-null int64\n",
      "NoShow                  110521 non-null object\n",
      "AppointmentDayofWeek    110521 non-null object\n",
      "ScheduledDayofWeek      110521 non-null object\n",
      "Waiting_Time_days       110521 non-null int64\n",
      "dtypes: datetime64[ns](2), int64(8), object(5)\n",
      "memory usage: 13.5+ MB\n"
     ]
    }
   ],
   "source": [
    "df.info()"
   ]
  },
  {
   "cell_type": "code",
   "execution_count": 27,
   "metadata": {},
   "outputs": [
    {
     "data": {
      "text/html": [
       "<div>\n",
       "<style scoped>\n",
       "    .dataframe tbody tr th:only-of-type {\n",
       "        vertical-align: middle;\n",
       "    }\n",
       "\n",
       "    .dataframe tbody tr th {\n",
       "        vertical-align: top;\n",
       "    }\n",
       "\n",
       "    .dataframe thead th {\n",
       "        text-align: right;\n",
       "    }\n",
       "</style>\n",
       "<table border=\"1\" class=\"dataframe\">\n",
       "  <thead>\n",
       "    <tr style=\"text-align: right;\">\n",
       "      <th></th>\n",
       "      <th>Gender</th>\n",
       "      <th>ScheduledDay</th>\n",
       "      <th>AppointmentDay</th>\n",
       "      <th>Age</th>\n",
       "      <th>Neighbourhood</th>\n",
       "      <th>Scholarship</th>\n",
       "      <th>Hypertension</th>\n",
       "      <th>Diabetes</th>\n",
       "      <th>Alcoholism</th>\n",
       "      <th>Handicap</th>\n",
       "      <th>SMSReceived</th>\n",
       "      <th>NoShow</th>\n",
       "      <th>AppointmentDayofWeek</th>\n",
       "      <th>ScheduledDayofWeek</th>\n",
       "      <th>Waiting_Time_days</th>\n",
       "    </tr>\n",
       "  </thead>\n",
       "  <tbody>\n",
       "    <tr>\n",
       "      <td>19614</td>\n",
       "      <td>F</td>\n",
       "      <td>2016-05-20</td>\n",
       "      <td>2016-05-25</td>\n",
       "      <td>66</td>\n",
       "      <td>ILHA DO PRÍNCIPE</td>\n",
       "      <td>0</td>\n",
       "      <td>1</td>\n",
       "      <td>0</td>\n",
       "      <td>0</td>\n",
       "      <td>0</td>\n",
       "      <td>1</td>\n",
       "      <td>No</td>\n",
       "      <td>Wednesday</td>\n",
       "      <td>Friday</td>\n",
       "      <td>5</td>\n",
       "    </tr>\n",
       "    <tr>\n",
       "      <td>51023</td>\n",
       "      <td>F</td>\n",
       "      <td>2016-05-04</td>\n",
       "      <td>2016-05-04</td>\n",
       "      <td>65</td>\n",
       "      <td>FONTE GRANDE</td>\n",
       "      <td>0</td>\n",
       "      <td>1</td>\n",
       "      <td>1</td>\n",
       "      <td>0</td>\n",
       "      <td>0</td>\n",
       "      <td>0</td>\n",
       "      <td>No</td>\n",
       "      <td>Wednesday</td>\n",
       "      <td>Wednesday</td>\n",
       "      <td>0</td>\n",
       "    </tr>\n",
       "    <tr>\n",
       "      <td>19871</td>\n",
       "      <td>F</td>\n",
       "      <td>2016-04-28</td>\n",
       "      <td>2016-05-18</td>\n",
       "      <td>21</td>\n",
       "      <td>BELA VISTA</td>\n",
       "      <td>0</td>\n",
       "      <td>0</td>\n",
       "      <td>0</td>\n",
       "      <td>0</td>\n",
       "      <td>0</td>\n",
       "      <td>0</td>\n",
       "      <td>No</td>\n",
       "      <td>Wednesday</td>\n",
       "      <td>Thursday</td>\n",
       "      <td>20</td>\n",
       "    </tr>\n",
       "    <tr>\n",
       "      <td>64289</td>\n",
       "      <td>F</td>\n",
       "      <td>2016-05-10</td>\n",
       "      <td>2016-05-10</td>\n",
       "      <td>56</td>\n",
       "      <td>SANTA TEREZA</td>\n",
       "      <td>0</td>\n",
       "      <td>1</td>\n",
       "      <td>0</td>\n",
       "      <td>0</td>\n",
       "      <td>0</td>\n",
       "      <td>0</td>\n",
       "      <td>No</td>\n",
       "      <td>Tuesday</td>\n",
       "      <td>Tuesday</td>\n",
       "      <td>0</td>\n",
       "    </tr>\n",
       "    <tr>\n",
       "      <td>93621</td>\n",
       "      <td>F</td>\n",
       "      <td>2016-05-19</td>\n",
       "      <td>2016-06-03</td>\n",
       "      <td>38</td>\n",
       "      <td>GRANDE VITÓRIA</td>\n",
       "      <td>1</td>\n",
       "      <td>0</td>\n",
       "      <td>0</td>\n",
       "      <td>0</td>\n",
       "      <td>0</td>\n",
       "      <td>1</td>\n",
       "      <td>Yes</td>\n",
       "      <td>Friday</td>\n",
       "      <td>Thursday</td>\n",
       "      <td>15</td>\n",
       "    </tr>\n",
       "    <tr>\n",
       "      <td>74973</td>\n",
       "      <td>M</td>\n",
       "      <td>2016-05-13</td>\n",
       "      <td>2016-05-30</td>\n",
       "      <td>13</td>\n",
       "      <td>ILHA DAS CAIEIRAS</td>\n",
       "      <td>0</td>\n",
       "      <td>0</td>\n",
       "      <td>0</td>\n",
       "      <td>0</td>\n",
       "      <td>0</td>\n",
       "      <td>1</td>\n",
       "      <td>No</td>\n",
       "      <td>Monday</td>\n",
       "      <td>Friday</td>\n",
       "      <td>17</td>\n",
       "    </tr>\n",
       "    <tr>\n",
       "      <td>79537</td>\n",
       "      <td>M</td>\n",
       "      <td>2016-05-18</td>\n",
       "      <td>2016-05-18</td>\n",
       "      <td>71</td>\n",
       "      <td>DA PENHA</td>\n",
       "      <td>0</td>\n",
       "      <td>1</td>\n",
       "      <td>0</td>\n",
       "      <td>0</td>\n",
       "      <td>0</td>\n",
       "      <td>0</td>\n",
       "      <td>No</td>\n",
       "      <td>Wednesday</td>\n",
       "      <td>Wednesday</td>\n",
       "      <td>0</td>\n",
       "    </tr>\n",
       "    <tr>\n",
       "      <td>101046</td>\n",
       "      <td>F</td>\n",
       "      <td>2016-06-06</td>\n",
       "      <td>2016-06-06</td>\n",
       "      <td>48</td>\n",
       "      <td>SANTA MARTHA</td>\n",
       "      <td>0</td>\n",
       "      <td>1</td>\n",
       "      <td>0</td>\n",
       "      <td>0</td>\n",
       "      <td>0</td>\n",
       "      <td>0</td>\n",
       "      <td>No</td>\n",
       "      <td>Monday</td>\n",
       "      <td>Monday</td>\n",
       "      <td>0</td>\n",
       "    </tr>\n",
       "    <tr>\n",
       "      <td>80347</td>\n",
       "      <td>M</td>\n",
       "      <td>2016-05-24</td>\n",
       "      <td>2016-05-24</td>\n",
       "      <td>1</td>\n",
       "      <td>PIEDADE</td>\n",
       "      <td>0</td>\n",
       "      <td>0</td>\n",
       "      <td>0</td>\n",
       "      <td>0</td>\n",
       "      <td>0</td>\n",
       "      <td>0</td>\n",
       "      <td>No</td>\n",
       "      <td>Tuesday</td>\n",
       "      <td>Tuesday</td>\n",
       "      <td>0</td>\n",
       "    </tr>\n",
       "    <tr>\n",
       "      <td>94986</td>\n",
       "      <td>F</td>\n",
       "      <td>2016-06-02</td>\n",
       "      <td>2016-06-02</td>\n",
       "      <td>27</td>\n",
       "      <td>ILHA DO PRÍNCIPE</td>\n",
       "      <td>0</td>\n",
       "      <td>0</td>\n",
       "      <td>0</td>\n",
       "      <td>0</td>\n",
       "      <td>0</td>\n",
       "      <td>0</td>\n",
       "      <td>No</td>\n",
       "      <td>Thursday</td>\n",
       "      <td>Thursday</td>\n",
       "      <td>0</td>\n",
       "    </tr>\n",
       "  </tbody>\n",
       "</table>\n",
       "</div>"
      ],
      "text/plain": [
       "       Gender ScheduledDay AppointmentDay  Age      Neighbourhood  \\\n",
       "19614       F   2016-05-20     2016-05-25   66   ILHA DO PRÍNCIPE   \n",
       "51023       F   2016-05-04     2016-05-04   65       FONTE GRANDE   \n",
       "19871       F   2016-04-28     2016-05-18   21         BELA VISTA   \n",
       "64289       F   2016-05-10     2016-05-10   56       SANTA TEREZA   \n",
       "93621       F   2016-05-19     2016-06-03   38     GRANDE VITÓRIA   \n",
       "74973       M   2016-05-13     2016-05-30   13  ILHA DAS CAIEIRAS   \n",
       "79537       M   2016-05-18     2016-05-18   71           DA PENHA   \n",
       "101046      F   2016-06-06     2016-06-06   48       SANTA MARTHA   \n",
       "80347       M   2016-05-24     2016-05-24    1            PIEDADE   \n",
       "94986       F   2016-06-02     2016-06-02   27   ILHA DO PRÍNCIPE   \n",
       "\n",
       "        Scholarship  Hypertension  Diabetes  Alcoholism  Handicap  \\\n",
       "19614             0             1         0           0         0   \n",
       "51023             0             1         1           0         0   \n",
       "19871             0             0         0           0         0   \n",
       "64289             0             1         0           0         0   \n",
       "93621             1             0         0           0         0   \n",
       "74973             0             0         0           0         0   \n",
       "79537             0             1         0           0         0   \n",
       "101046            0             1         0           0         0   \n",
       "80347             0             0         0           0         0   \n",
       "94986             0             0         0           0         0   \n",
       "\n",
       "        SMSReceived NoShow AppointmentDayofWeek ScheduledDayofWeek  \\\n",
       "19614             1     No            Wednesday             Friday   \n",
       "51023             0     No            Wednesday          Wednesday   \n",
       "19871             0     No            Wednesday           Thursday   \n",
       "64289             0     No              Tuesday            Tuesday   \n",
       "93621             1    Yes               Friday           Thursday   \n",
       "74973             1     No               Monday             Friday   \n",
       "79537             0     No            Wednesday          Wednesday   \n",
       "101046            0     No               Monday             Monday   \n",
       "80347             0     No              Tuesday            Tuesday   \n",
       "94986             0     No             Thursday           Thursday   \n",
       "\n",
       "        Waiting_Time_days  \n",
       "19614                   5  \n",
       "51023                   0  \n",
       "19871                  20  \n",
       "64289                   0  \n",
       "93621                  15  \n",
       "74973                  17  \n",
       "79537                   0  \n",
       "101046                  0  \n",
       "80347                   0  \n",
       "94986                   0  "
      ]
     },
     "execution_count": 27,
     "metadata": {},
     "output_type": "execute_result"
    }
   ],
   "source": [
    "df.sample(n=10)"
   ]
  },
  {
   "cell_type": "code",
   "execution_count": 28,
   "metadata": {},
   "outputs": [
    {
     "name": "stdout",
     "output_type": "stream",
     "text": [
      "NoShow and Show Count of Patients\n",
      "\n",
      "NoShow\n",
      "No     88205\n",
      "Yes    22316\n",
      "dtype: int64\n",
      "\n",
      "NoShow and Show '%' of Patients\n",
      "\n",
      "Percent of Patients who `Showed Up` => 79.81%\n",
      "Percent of Patients who Did `Not Showed Up` => 20.19%\n"
     ]
    }
   ],
   "source": [
    "# calculating the percentage of patient's showing up and noshow\n",
    "\n",
    "print(\"NoShow and Show Count of Patients\\n\")\n",
    "print(df.groupby(['NoShow']).size())\n",
    "\n",
    "show = df.groupby(['NoShow']).size()[0]/(df.groupby(['NoShow']).size()[0]+df.groupby(['NoShow']).size()[1])\n",
    "print(\"Percent of Patients who `Showed Up` => {:.2f}%\".format(show*100))\n",
    "\n",
    "noshow = df.groupby(['NoShow']).size()[1]/(df.groupby(['NoShow']).size()[0]+df.groupby(['NoShow']).size()[1])\n",
    "print(\"Percent of Patients who Did `Not Showed Up` => {:.2f}%\".format(noshow*100))"
   ]
  },
  {
   "cell_type": "markdown",
   "metadata": {},
   "source": [
    "## EDA"
   ]
  },
  {
   "cell_type": "code",
   "execution_count": 29,
   "metadata": {},
   "outputs": [
    {
     "data": {
      "text/plain": [
       "<matplotlib.axes._subplots.AxesSubplot at 0x1e05951e848>"
      ]
     },
     "execution_count": 29,
     "metadata": {},
     "output_type": "execute_result"
    },
    {
     "data": {
      "image/png": "[encoded data removed]",
      "text/plain": [
       "<Figure size 432x288 with 1 Axes>"
      ]
     },
     "metadata": {
      "needs_background": "light"
     },
     "output_type": "display_data"
    }
   ],
   "source": [
    "# Show/NoShow for Females and Males\n",
    "\n",
    "sns.countplot(x='Gender', hue='NoShow', data=df)"
   ]
  },
  {
   "cell_type": "code",
   "execution_count": 30,
   "metadata": {},
   "outputs": [
    {
     "data": {
      "image/png": "[encoded data removed]",
      "text/plain": [
       "<Figure size 2160x864 with 1 Axes>"
      ]
     },
     "metadata": {
      "needs_background": "light"
     },
     "output_type": "display_data"
    }
   ],
   "source": [
    "plt.figure(figsize=(30,12))\n",
    "fig = sns.countplot(x='Neighbourhood',hue='NoShow',data=df)\n",
    "fig.set_xticklabels(fig.get_xticklabels(), rotation=90);"
   ]
  },
  {
   "cell_type": "code",
   "execution_count": 56,
   "metadata": {},
   "outputs": [
    {
     "data": {
      "text/plain": [
       "<matplotlib.axes._subplots.AxesSubplot at 0x1e05edc7e48>"
      ]
     },
     "execution_count": 56,
     "metadata": {},
     "output_type": "execute_result"
    },
    {
     "data": {
      "image/png": "[encoded data removed]",
      "text/plain": [
       "<Figure size 432x288 with 2 Axes>"
      ]
     },
     "metadata": {
      "needs_background": "light"
     },
     "output_type": "display_data"
    }
   ],
   "source": [
    " sns.heatmap(df.corr(), vmin=-0.9, vmax=0.9,cmap='coolwarm')"
   ]
  },
  {
   "cell_type": "code",
   "execution_count": 32,
   "metadata": {},
   "outputs": [
    {
     "data": {
      "text/plain": [
       "<matplotlib.axes._subplots.AxesSubplot at 0x1e05cd49808>"
      ]
     },
     "execution_count": 32,
     "metadata": {},
     "output_type": "execute_result"
    },
    {
     "data": {
      "image/png": "[encoded data removed]",
      "text/plain": [
       "<Figure size 1152x144 with 1 Axes>"
      ]
     },
     "metadata": {
      "needs_background": "light"
     },
     "output_type": "display_data"
    }
   ],
   "source": [
    "# drawing boxplot for the Age feature to check it's distribution\n",
    "\n",
    "plt.figure(figsize=(16,2))\n",
    "sns.boxplot(x=df.Age)"
   ]
  },
  {
   "cell_type": "code",
   "execution_count": 33,
   "metadata": {},
   "outputs": [
    {
     "data": {
      "image/png": "[encoded data removed]",
      "text/plain": [
       "<Figure size 1152x288 with 1 Axes>"
      ]
     },
     "metadata": {
      "needs_background": "light"
     },
     "output_type": "display_data"
    }
   ],
   "source": [
    "# no. of patients by age\n",
    "\n",
    "plt.figure(figsize=(16,4))\n",
    "ax = sns.countplot(x=df.Age)\n",
    "ax.set_title(\"No of Appointments by Age\")\n",
    "plt.show()"
   ]
  },
  {
   "cell_type": "markdown",
   "metadata": {},
   "source": [
    "From the above Histogram we can see that there are peaks for the Infants and then the distribution starts to be uniform. Later, after the Age of around 60 we see a right-skewed distribution."
   ]
  },
  {
   "cell_type": "code",
   "execution_count": 34,
   "metadata": {},
   "outputs": [],
   "source": [
    "df_age_ratio = df[df.NoShow == 'No'].groupby(['Age']).size()/df.groupby(['Age']).size()"
   ]
  },
  {
   "cell_type": "code",
   "execution_count": 35,
   "metadata": {},
   "outputs": [
    {
     "data": {
      "image/png": "[encoded data removed]",
      "text/plain": [
       "<Figure size 1152x288 with 1 Axes>"
      ]
     },
     "metadata": {
      "needs_background": "light"
     },
     "output_type": "display_data"
    }
   ],
   "source": [
    "plt.figure(figsize=(16,4))\n",
    "ax = sns.barplot(x=df_age_ratio.index, y=df_age_ratio)\n",
    "ax.set_title(\"Percentage of Patients that Showed Up by Age\")\n",
    "plt.show()"
   ]
  },
  {
   "cell_type": "code",
   "execution_count": 36,
   "metadata": {},
   "outputs": [
    {
     "data": {
      "image/png": "[encoded data removed]",
      "text/plain": [
       "<Figure size 1152x288 with 1 Axes>"
      ]
     },
     "metadata": {
      "needs_background": "light"
     },
     "output_type": "display_data"
    }
   ],
   "source": [
    "plt.figure(figsize=(16,4))\n",
    "ax = plt.hist(df_age_ratio)\n",
    "plt.title(\"Distribution of Percentage Show Up by Age\")\n",
    "plt.show()"
   ]
  },
  {
   "cell_type": "code",
   "execution_count": 37,
   "metadata": {},
   "outputs": [
    {
     "data": {
      "image/png": "[encoded data removed]",
      "text/plain": [
       "<Figure size 432x288 with 1 Axes>"
      ]
     },
     "metadata": {
      "needs_background": "light"
     },
     "output_type": "display_data"
    }
   ],
   "source": [
    "# scholarship\n",
    "\n",
    "ax = sns.countplot(x=df.Scholarship, hue=df.NoShow, data=df)\n",
    "ax.set_title(\"Show/NoShow for Scholarship\")\n",
    "x_ticks_labels=['No Scholarship', 'Scholarship']\n",
    "ax.set_xticklabels(x_ticks_labels)\n",
    "plt.show()"
   ]
  },
  {
   "cell_type": "code",
   "execution_count": 38,
   "metadata": {},
   "outputs": [],
   "source": [
    "df_s_ratio = df[df.NoShow == 'No'].groupby(['Scholarship']).size()/df.groupby(['Scholarship']).size()"
   ]
  },
  {
   "cell_type": "code",
   "execution_count": 39,
   "metadata": {},
   "outputs": [
    {
     "data": {
      "image/png": "[encoded data removed]",
      "text/plain": [
       "<Figure size 432x288 with 1 Axes>"
      ]
     },
     "metadata": {
      "needs_background": "light"
     },
     "output_type": "display_data"
    }
   ],
   "source": [
    "ax = sns.barplot(x=df_s_ratio.index, y=df_s_ratio)\n",
    "ax.set_title(\"Show Percentage for Scholarship\")\n",
    "x_ticks_labels=['No Scholarship', 'Scholarship']\n",
    "ax.set_xticklabels(x_ticks_labels)\n",
    "plt.show()"
   ]
  },
  {
   "cell_type": "markdown",
   "metadata": {},
   "source": [
    "From the above visualization we can see that there are around 100,000 patients without Scholarship and out of them around 80% have come for the visit.\n",
    "**Out of the 10,500 patients with Scholarship around 75% of them have come for the visit.**\n",
    "So, Scholarship feature could help us in determining if a patient will turn up for the visit after an appointment."
   ]
  },
  {
   "cell_type": "code",
   "execution_count": 40,
   "metadata": {},
   "outputs": [
    {
     "data": {
      "image/png": "[encoded data removed]",
      "text/plain": [
       "<Figure size 432x288 with 1 Axes>"
      ]
     },
     "metadata": {
      "needs_background": "light"
     },
     "output_type": "display_data"
    }
   ],
   "source": [
    "# hypertension\n",
    "\n",
    "ax = sns.countplot(x=df.Hypertension, hue=df.NoShow, data=df)\n",
    "ax.set_title(\"Show/NoShow for Hypertension\")\n",
    "x_ticks_labels=['No Hypertension', 'Hypertension']\n",
    "ax.set_xticklabels(x_ticks_labels)\n",
    "plt.show()"
   ]
  },
  {
   "cell_type": "code",
   "execution_count": 41,
   "metadata": {},
   "outputs": [],
   "source": [
    "df_h_ratio = df[df.NoShow == 'No'].groupby(['Hypertension']).size()/df.groupby(['Hypertension']).size()"
   ]
  },
  {
   "cell_type": "code",
   "execution_count": 42,
   "metadata": {},
   "outputs": [
    {
     "data": {
      "image/png": "[encoded data removed]",
      "text/plain": [
       "<Figure size 432x288 with 1 Axes>"
      ]
     },
     "metadata": {
      "needs_background": "light"
     },
     "output_type": "display_data"
    }
   ],
   "source": [
    "ax = sns.barplot(x=df_h_ratio.index, y=df_h_ratio)\n",
    "ax.set_title(\"Show Percentage for Hypertension\")\n",
    "x_ticks_labels=['No Hypertension', 'Hypertension']\n",
    "ax.set_xticklabels(x_ticks_labels)\n",
    "plt.show()"
   ]
  },
  {
   "cell_type": "markdown",
   "metadata": {},
   "source": [
    "From the above visualization we can see that there are around 88,000 patients without Hypertension and out of them around 78% have come for the visit.\n",
    "**Out of the 22,500 patients with Hypertension around 85% of them have come for the visit.**\n",
    "So, Hypertension feature could help us in determining if a patient will turn up for the visit after an appointment."
   ]
  },
  {
   "cell_type": "code",
   "execution_count": 43,
   "metadata": {},
   "outputs": [
    {
     "data": {
      "image/png": "[encoded data removed]",
      "text/plain": [
       "<Figure size 432x288 with 1 Axes>"
      ]
     },
     "metadata": {
      "needs_background": "light"
     },
     "output_type": "display_data"
    }
   ],
   "source": [
    "# diabetes\n",
    "\n",
    "ax = sns.countplot(x=df.Diabetes, hue=df.NoShow, data=df)\n",
    "ax.set_title(\"Show/NoShow for Diabetes\")\n",
    "x_ticks_labels=['No Diabetes', 'Diabetes']\n",
    "ax.set_xticklabels(x_ticks_labels)\n",
    "plt.show()"
   ]
  },
  {
   "cell_type": "code",
   "execution_count": 44,
   "metadata": {},
   "outputs": [],
   "source": [
    "df_d_ratio = df[df.NoShow == 'No'].groupby(['Diabetes']).size()/df.groupby(['Diabetes']).size()"
   ]
  },
  {
   "cell_type": "code",
   "execution_count": 45,
   "metadata": {},
   "outputs": [
    {
     "data": {
      "image/png": "[encoded data removed]",
      "text/plain": [
       "<Figure size 432x288 with 1 Axes>"
      ]
     },
     "metadata": {
      "needs_background": "light"
     },
     "output_type": "display_data"
    }
   ],
   "source": [
    "ax = sns.barplot(x=df_d_ratio.index, y=df_d_ratio)\n",
    "ax.set_title(\"Show Percentage for Diabetes\")\n",
    "x_ticks_labels=['No Diabetes', 'Diabetes']\n",
    "ax.set_xticklabels(x_ticks_labels)\n",
    "plt.show()"
   ]
  },
  {
   "cell_type": "markdown",
   "metadata": {},
   "source": [
    "From the above visualization we can see that there are around 102,000 patients without Diabetes and out of them around 80% have come for the visit.\n",
    "**Out of the 8,500 patients with Diabetes around 83% of them have come for the visit.**\n",
    "So, Diabetes feature could help us in determining if a patient will turn up for the visit after an appointment."
   ]
  },
  {
   "cell_type": "code",
   "execution_count": 46,
   "metadata": {},
   "outputs": [
    {
     "data": {
      "image/png": "[encoded data removed]",
      "text/plain": [
       "<Figure size 432x288 with 1 Axes>"
      ]
     },
     "metadata": {
      "needs_background": "light"
     },
     "output_type": "display_data"
    }
   ],
   "source": [
    "# alcoholism\n",
    "\n",
    "ax = sns.countplot(x=df.Alcoholism, hue=df.NoShow, data=df)\n",
    "ax.set_title(\"Show/NoShow for Alcoholism\")\n",
    "x_ticks_labels=['No Alcoholism', 'Alcoholism']\n",
    "ax.set_xticklabels(x_ticks_labels)\n",
    "plt.show()"
   ]
  },
  {
   "cell_type": "code",
   "execution_count": 47,
   "metadata": {},
   "outputs": [],
   "source": [
    "df_a_ratio = df[df.NoShow == 'No'].groupby(['Alcoholism']).size()/df.groupby(['Alcoholism']).size()"
   ]
  },
  {
   "cell_type": "code",
   "execution_count": 48,
   "metadata": {},
   "outputs": [
    {
     "data": {
      "image/png": "[encoded data removed]",
      "text/plain": [
       "<Figure size 432x288 with 1 Axes>"
      ]
     },
     "metadata": {
      "needs_background": "light"
     },
     "output_type": "display_data"
    }
   ],
   "source": [
    "ax = sns.barplot(x=df_a_ratio.index, y=df_a_ratio)\n",
    "ax.set_title(\"Show Percentage for Alcoholism\")\n",
    "x_ticks_labels=['No Alcoholism', 'Alcoholism']\n",
    "ax.set_xticklabels(x_ticks_labels)\n",
    "plt.show()"
   ]
  },
  {
   "cell_type": "markdown",
   "metadata": {},
   "source": [
    "From the above visualization we can see that there are around 105,000 patients without Alcoholism and out of them around 80% have come for the visit.\n",
    "Out of the 5,500 patients with Alcoholism around 80% of them have come for the visit.\n",
    "**As the percentage of visits for patients with and without Alcoholism is the same it may not help us in determining if a patient will come for a visit.**"
   ]
  },
  {
   "cell_type": "code",
   "execution_count": 49,
   "metadata": {},
   "outputs": [
    {
     "data": {
      "image/png": "[encoded data removed]",
      "text/plain": [
       "<Figure size 432x288 with 1 Axes>"
      ]
     },
     "metadata": {
      "needs_background": "light"
     },
     "output_type": "display_data"
    }
   ],
   "source": [
    "# handicap\n",
    "\n",
    "ax = sns.countplot(x=df.Handicap, hue=df.NoShow, data=df)\n",
    "ax.set_title(\"Show/NoShow for Handicap\")\n",
    "plt.show()"
   ]
  },
  {
   "cell_type": "code",
   "execution_count": 50,
   "metadata": {},
   "outputs": [],
   "source": [
    "df_ha_ratio = df[df.NoShow == 'No'].groupby(['Handicap']).size()/df.groupby(['Handicap']).size()"
   ]
  },
  {
   "cell_type": "code",
   "execution_count": 51,
   "metadata": {},
   "outputs": [
    {
     "data": {
      "image/png": "[encoded data removed]",
      "text/plain": [
       "<Figure size 432x288 with 1 Axes>"
      ]
     },
     "metadata": {
      "needs_background": "light"
     },
     "output_type": "display_data"
    }
   ],
   "source": [
    "ax = sns.barplot(x=df_ha_ratio.index, y=df_ha_ratio)\n",
    "ax.set_title(\"Show Percentage for Handicap\")\n",
    "plt.show()"
   ]
  },
  {
   "cell_type": "markdown",
   "metadata": {},
   "source": [
    "From the above visualization we can see that there are around 110,000 patients without Handicap and out of them around 80% have come for the visit.\n",
    "**As we can see a clear distinction between different Handicap levels this feature will help us in determining if a patient will turn up for the visit after taking an appointment.**"
   ]
  },
  {
   "cell_type": "code",
   "execution_count": 52,
   "metadata": {},
   "outputs": [
    {
     "data": {
      "image/png": "[encoded data removed]",
      "text/plain": [
       "<Figure size 432x288 with 1 Axes>"
      ]
     },
     "metadata": {
      "needs_background": "light"
     },
     "output_type": "display_data"
    }
   ],
   "source": [
    "# sms received\n",
    "\n",
    "ax = sns.countplot(x=df.SMSReceived, hue=df.NoShow, data=df)\n",
    "ax.set_title(\"Show/NoShow for SMSReceived\")\n",
    "x_ticks_labels=['No SMSReceived', 'SMSReceived']\n",
    "ax.set_xticklabels(x_ticks_labels)\n",
    "plt.show()"
   ]
  },
  {
   "cell_type": "code",
   "execution_count": 53,
   "metadata": {},
   "outputs": [],
   "source": [
    "df_s_ratio = df[df.NoShow == 'No'].groupby(['SMSReceived']).size()/df.groupby(['SMSReceived']).size()"
   ]
  },
  {
   "cell_type": "code",
   "execution_count": 54,
   "metadata": {},
   "outputs": [
    {
     "data": {
      "image/png": "[encoded data removed]",
      "text/plain": [
       "<Figure size 432x288 with 1 Axes>"
      ]
     },
     "metadata": {
      "needs_background": "light"
     },
     "output_type": "display_data"
    }
   ],
   "source": [
    "ax = sns.barplot(x=df_s_ratio.index, y=df_s_ratio)\n",
    "ax.set_title(\"Show Percentage for SMSReceived\")\n",
    "x_ticks_labels=['No SMSReceived', 'SMSReceived']\n",
    "ax.set_xticklabels(x_ticks_labels)\n",
    "plt.show()"
   ]
  },
  {
   "cell_type": "markdown",
   "metadata": {},
   "source": [
    "From the above visualization we can see that there are around 75,000 patients who have not received SMS and out of them around 84% have come for the visit.\n",
    "**Out of the 35,500 patients who have received SMS around 72% of them have come for the visit.**\n",
    "As we can see a clear distinction between people reveiving SMS and not receiving SMS this feature will help us in determining if a patient will turn up for the visit after taking an appointment."
   ]
  },
  {
   "cell_type": "code",
   "execution_count": 55,
   "metadata": {},
   "outputs": [
    {
     "data": {
      "image/png": "[encoded data removed]",
      "text/plain": [
       "<Figure size 1152x288 with 1 Axes>"
      ]
     },
     "metadata": {
      "needs_background": "light"
     },
     "output_type": "display_data"
    }
   ],
   "source": [
    "# scheduled day\n",
    "\n",
    "plt.figure(figsize=(16,4))\n",
    "ax = sns.countplot(x=df.ScheduledDayofWeek, order=week_key)\n",
    "ax.set_title(\"Appointment Count for Scheduled Day of Week\")\n",
    "plt.show()"
   ]
  },
  {
   "cell_type": "markdown",
   "metadata": {},
   "source": [
    "Looks like the call center that takes the appointments doesn't work over the weekends **as we do not see any appointments taken on Saturday and Sunday.**"
   ]
  },
  {
   "cell_type": "code",
   "execution_count": 57,
   "metadata": {},
   "outputs": [
    {
     "data": {
      "image/png": "[encoded data removed]",
      "text/plain": [
       "<Figure size 1152x288 with 1 Axes>"
      ]
     },
     "metadata": {
      "needs_background": "light"
     },
     "output_type": "display_data"
    }
   ],
   "source": [
    "# appointment day\n",
    "\n",
    "plt.figure(figsize=(16,4))\n",
    "ax = sns.countplot(x=df.AppointmentDayofWeek, order=week_key)\n",
    "ax.set_title(\"Appointment Count for Appointment Day of Week\")\n",
    "plt.show()"
   ]
  },
  {
   "cell_type": "markdown",
   "metadata": {},
   "source": [
    "There looks like a pattern with the appointments from the above visualizations. Also, **we can see there are very less appointments on Saturday and no appointments on Sunday.**\n",
    "\n",
    "So, AppointmentDayofWeek could help in determining if a patient visits the hospital after taking an appointment."
   ]
  },
  {
   "cell_type": "code",
   "execution_count": 59,
   "metadata": {},
   "outputs": [
    {
     "data": {
      "image/png": "[encoded data removed]",
      "text/plain": [
       "<Figure size 1152x288 with 1 Axes>"
      ]
     },
     "metadata": {
      "needs_background": "light"
     },
     "output_type": "display_data"
    }
   ],
   "source": [
    "plt.figure(figsize=(16,4))\n",
    "ax = sns.countplot(x=df.AppointmentDayofWeek, hue=df.NoShow, order=week_key)\n",
    "ax.set_title(\"Show/NoShow for Appointment Day of the Week\")\n",
    "plt.show()"
   ]
  },
  {
   "cell_type": "code",
   "execution_count": 61,
   "metadata": {},
   "outputs": [],
   "source": [
    "df_a_dow_ratio = df[df.NoShow == 'No'].groupby(['AppointmentDayofWeek']).size()/df.groupby(['AppointmentDayofWeek']).size()"
   ]
  },
  {
   "cell_type": "code",
   "execution_count": 62,
   "metadata": {},
   "outputs": [
    {
     "data": {
      "image/png": "[encoded data removed]",
      "text/plain": [
       "<Figure size 1152x288 with 1 Axes>"
      ]
     },
     "metadata": {
      "needs_background": "light"
     },
     "output_type": "display_data"
    }
   ],
   "source": [
    "plt.figure(figsize=(16,4))\n",
    "ax = sns.barplot(x=df_a_dow_ratio.index, y=df_a_dow_ratio, order=week_key)\n",
    "ax.set_title(\"Show Percent for Appointment Day of the Week\")\n",
    "plt.show()"
   ]
  },
  {
   "cell_type": "markdown",
   "metadata": {},
   "source": [
    "As we predicted earlier, we do not see a clear pattern in the patients visits based on the week day. **But we can observe that on Saturday's the percentage of visits is less.** So, AppointmentDayofWeek can help us in predicting the visits by a small number."
   ]
  },
  {
   "cell_type": "code",
   "execution_count": 63,
   "metadata": {},
   "outputs": [
    {
     "data": {
      "image/png": "[encoded data removed]",
      "text/plain": [
       "<Figure size 1152x288 with 1 Axes>"
      ]
     },
     "metadata": {
      "needs_background": "light"
     },
     "output_type": "display_data"
    }
   ],
   "source": [
    "# waiting time\n",
    "\n",
    "plt.figure(figsize=(16,4))\n",
    "ax = sns.countplot(x=df.Waiting_Time_days, order=df.Waiting_Time_days.value_counts().iloc[:55].index)\n",
    "ax.set_title(\"Waiting Time in Days (Descending Order)\")\n",
    "plt.show()"
   ]
  },
  {
   "cell_type": "markdown",
   "metadata": {},
   "source": [
    "**From the above visualization we can see that most of the patients are booking their appointments on the same day.** The next highest waiting times are 2days, 4 days and 1 day."
   ]
  },
  {
   "cell_type": "code",
   "execution_count": null,
   "metadata": {},
   "outputs": [],
   "source": [
    "#plt.figure(figsize=(16,4))\n",
    "#ax = sns.countplot(x=df.Waiting_Time_days, order=df.Waiting_Time_days.value_counts(ascending=True).iloc[:55].index)\n",
    "#ax.set_title(\"Waiting Time in Days (Ascending Order)\")\n",
    "#plt.show()"
   ]
  },
  {
   "cell_type": "code",
   "execution_count": 65,
   "metadata": {},
   "outputs": [
    {
     "data": {
      "image/png": "[encoded data removed]",
      "text/plain": [
       "<Figure size 1152x288 with 1 Axes>"
      ]
     },
     "metadata": {
      "needs_background": "light"
     },
     "output_type": "display_data"
    }
   ],
   "source": [
    "plt.figure(figsize=(16,4))\n",
    "ax = sns.countplot(x=df.Waiting_Time_days, hue=df.NoShow, order=df.Waiting_Time_days.value_counts().iloc[:25].index)\n",
    "ax.set_title(\"Show/NoShow Count for Waiting Time in Days (High Count)\")\n",
    "plt.show()"
   ]
  },
  {
   "cell_type": "code",
   "execution_count": null,
   "metadata": {},
   "outputs": [],
   "source": [
    "#plt.figure(figsize=(16,4))\n",
    "#ax = sns.countplot(x=df.Waiting_Time_days, hue=df.NoShow, order=df.Waiting_Time_days.value_counts(ascending=True).iloc[:55].index)\n",
    "#ax.set_title(\"Show/NoShow Count for Waiting Time in Days (Low Count)\")\n",
    "#plt.show()"
   ]
  },
  {
   "cell_type": "code",
   "execution_count": null,
   "metadata": {},
   "outputs": [],
   "source": [
    "# we will visualize the last few rows (High WaitTime) for the Waiting_Time_days column.\n",
    "\n",
    "#plt.figure(figsize=(16,4))\n",
    "#ax = sns.countplot(x=df[['Waiting_Time_days']].sort_values('Waiting_Time_days', ascending=False).Waiting_Time_days.iloc[:400])\n",
    "#ax.set_title(\"Descending Waiting Time in Days\")\n",
    "#plt.show()"
   ]
  },
  {
   "cell_type": "code",
   "execution_count": null,
   "metadata": {},
   "outputs": [],
   "source": [
    "#plt.figure(figsize=(16,4))\n",
    "#ax = sns.countplot(x=df[['Waiting_Time_days']].sort_values('Waiting_Time_days', ascending=False).Waiting_Time_days.iloc[:400], hue=df.NoShow)\n",
    "#ax.set_title(\"Show/NoShow - Descending Waiting Time in Days\")\n",
    "#plt.show()"
   ]
  },
  {
   "cell_type": "code",
   "execution_count": 71,
   "metadata": {},
   "outputs": [],
   "source": [
    "df_w_ratio = df[df.NoShow == 'No'].groupby(['Waiting_Time_days']).size()/df.groupby(['Waiting_Time_days']).size()"
   ]
  },
  {
   "cell_type": "code",
   "execution_count": 72,
   "metadata": {},
   "outputs": [
    {
     "data": {
      "image/png": "[encoded data removed]",
      "text/plain": [
       "<Figure size 1152x288 with 1 Axes>"
      ]
     },
     "metadata": {
      "needs_background": "light"
     },
     "output_type": "display_data"
    }
   ],
   "source": [
    "plt.figure(figsize=(16,4))\n",
    "ax = sns.barplot(x=df_w_ratio.index, y=df_w_ratio, order=df.Waiting_Time_days.iloc[:70].index, palette=\"BuGn_d\")\n",
    "ax.set_title(\"Percent of Show for Waiting Time in Days\")\n",
    "plt.show()"
   ]
  },
  {
   "cell_type": "markdown",
   "metadata": {},
   "source": [
    "**From the above visualization we can see that around 95% of the patients who have booked their appointments on the same day and visiting the hospital without fail.** Also close to 80% of the patients are visiting the hospital if they had booked their appointments just before 4 days.\n",
    "\n",
    "**As we have a clear distinction for the patients Show/NoShow with the Waiting_Time_days, this feature could help us with a better prediction.**"
   ]
  },
  {
   "cell_type": "markdown",
   "metadata": {},
   "source": [
    "## Model building"
   ]
  },
  {
   "cell_type": "code",
   "execution_count": 73,
   "metadata": {},
   "outputs": [
    {
     "name": "stdout",
     "output_type": "stream",
     "text": [
      "<class 'pandas.core.frame.DataFrame'>\n",
      "Int64Index: 110521 entries, 0 to 110526\n",
      "Data columns (total 15 columns):\n",
      "Gender                  110521 non-null object\n",
      "ScheduledDay            110521 non-null datetime64[ns]\n",
      "AppointmentDay          110521 non-null datetime64[ns]\n",
      "Age                     110521 non-null int64\n",
      "Neighbourhood           110521 non-null object\n",
      "Scholarship             110521 non-null int64\n",
      "Hypertension            110521 non-null int64\n",
      "Diabetes                110521 non-null int64\n",
      "Alcoholism              110521 non-null int64\n",
      "Handicap                110521 non-null int64\n",
      "SMSReceived             110521 non-null int64\n",
      "NoShow                  110521 non-null object\n",
      "AppointmentDayofWeek    110521 non-null object\n",
      "ScheduledDayofWeek      110521 non-null object\n",
      "Waiting_Time_days       110521 non-null int64\n",
      "dtypes: datetime64[ns](2), int64(8), object(5)\n",
      "memory usage: 18.5+ MB\n"
     ]
    }
   ],
   "source": [
    "df.info()"
   ]
  },
  {
   "cell_type": "code",
   "execution_count": 77,
   "metadata": {},
   "outputs": [],
   "source": [
    "import datetime\n",
    "from time import strftime\n",
    "\n",
    "from sklearn.model_selection import train_test_split\n",
    "from sklearn.model_selection import GridSearchCV\n",
    "from sklearn.preprocessing import LabelEncoder\n",
    "\n",
    "from sklearn.tree import DecisionTreeClassifier\n",
    "from sklearn.ensemble import RandomForestClassifier"
   ]
  },
  {
   "cell_type": "code",
   "execution_count": 79,
   "metadata": {},
   "outputs": [],
   "source": [
    "# Use LabelEncoder to encode labels with value between 0 and n_classes-1.\n",
    "le = LabelEncoder()\n",
    "\n",
    "\n",
    "#Gender\n",
    "df['Gender'] = le.fit_transform(df['Gender'])\n",
    "\n",
    "#Neighbourhood\n",
    "df['Neighbourhood'] = le.fit_transform(df['Neighbourhood'])\n",
    "\n",
    "#ScheduledDay_DOW\n",
    "df['ScheduledDayofWeek'] = le.fit_transform(df['ScheduledDayofWeek'])\n",
    "\n",
    "#AppointmentDay_DOW\n",
    "df['AppointmentDayofWeek'] = le.fit_transform(df['AppointmentDayofWeek'])\n",
    "\n",
    "#NoShow\n",
    "df['NoShow'] = le.fit_transform(df['NoShow'])"
   ]
  },
  {
   "cell_type": "code",
   "execution_count": 80,
   "metadata": {},
   "outputs": [],
   "source": [
    "df['ScheduledDay_Y'] = df['ScheduledDay'].dt.year\n",
    "df['ScheduledDay_M'] = df['ScheduledDay'].dt.month\n",
    "df['ScheduledDay_D'] = df['ScheduledDay'].dt.day\n",
    "df.drop(['ScheduledDay'], axis=1, inplace=True)\n",
    "\n",
    "df['AppointmentDay_Y'] = df['AppointmentDay'].dt.year\n",
    "df['AppointmentDay_M'] = df['AppointmentDay'].dt.month\n",
    "df['AppointmentDay_D'] = df['AppointmentDay'].dt.day\n",
    "df.drop(['AppointmentDay'], axis=1, inplace=True)"
   ]
  },
  {
   "cell_type": "code",
   "execution_count": 81,
   "metadata": {},
   "outputs": [
    {
     "data": {
      "text/html": [
       "<div>\n",
       "<style scoped>\n",
       "    .dataframe tbody tr th:only-of-type {\n",
       "        vertical-align: middle;\n",
       "    }\n",
       "\n",
       "    .dataframe tbody tr th {\n",
       "        vertical-align: top;\n",
       "    }\n",
       "\n",
       "    .dataframe thead th {\n",
       "        text-align: right;\n",
       "    }\n",
       "</style>\n",
       "<table border=\"1\" class=\"dataframe\">\n",
       "  <thead>\n",
       "    <tr style=\"text-align: right;\">\n",
       "      <th></th>\n",
       "      <th>Gender</th>\n",
       "      <th>Age</th>\n",
       "      <th>Neighbourhood</th>\n",
       "      <th>Scholarship</th>\n",
       "      <th>Hypertension</th>\n",
       "      <th>Diabetes</th>\n",
       "      <th>Alcoholism</th>\n",
       "      <th>Handicap</th>\n",
       "      <th>SMSReceived</th>\n",
       "      <th>NoShow</th>\n",
       "      <th>AppointmentDayofWeek</th>\n",
       "      <th>ScheduledDayofWeek</th>\n",
       "      <th>Waiting_Time_days</th>\n",
       "      <th>ScheduledDay_Y</th>\n",
       "      <th>ScheduledDay_M</th>\n",
       "      <th>ScheduledDay_D</th>\n",
       "      <th>AppointmentDay_Y</th>\n",
       "      <th>AppointmentDay_M</th>\n",
       "      <th>AppointmentDay_D</th>\n",
       "    </tr>\n",
       "  </thead>\n",
       "  <tbody>\n",
       "    <tr>\n",
       "      <td>44659</td>\n",
       "      <td>0</td>\n",
       "      <td>3</td>\n",
       "      <td>35</td>\n",
       "      <td>0</td>\n",
       "      <td>0</td>\n",
       "      <td>0</td>\n",
       "      <td>0</td>\n",
       "      <td>0</td>\n",
       "      <td>0</td>\n",
       "      <td>0</td>\n",
       "      <td>4</td>\n",
       "      <td>4</td>\n",
       "      <td>0</td>\n",
       "      <td>2016</td>\n",
       "      <td>5</td>\n",
       "      <td>10</td>\n",
       "      <td>2016</td>\n",
       "      <td>5</td>\n",
       "      <td>10</td>\n",
       "    </tr>\n",
       "    <tr>\n",
       "      <td>6680</td>\n",
       "      <td>0</td>\n",
       "      <td>20</td>\n",
       "      <td>68</td>\n",
       "      <td>0</td>\n",
       "      <td>0</td>\n",
       "      <td>0</td>\n",
       "      <td>0</td>\n",
       "      <td>0</td>\n",
       "      <td>0</td>\n",
       "      <td>1</td>\n",
       "      <td>0</td>\n",
       "      <td>5</td>\n",
       "      <td>2</td>\n",
       "      <td>2016</td>\n",
       "      <td>5</td>\n",
       "      <td>11</td>\n",
       "      <td>2016</td>\n",
       "      <td>5</td>\n",
       "      <td>13</td>\n",
       "    </tr>\n",
       "    <tr>\n",
       "      <td>35058</td>\n",
       "      <td>1</td>\n",
       "      <td>16</td>\n",
       "      <td>25</td>\n",
       "      <td>0</td>\n",
       "      <td>0</td>\n",
       "      <td>0</td>\n",
       "      <td>0</td>\n",
       "      <td>0</td>\n",
       "      <td>0</td>\n",
       "      <td>0</td>\n",
       "      <td>1</td>\n",
       "      <td>1</td>\n",
       "      <td>0</td>\n",
       "      <td>2016</td>\n",
       "      <td>5</td>\n",
       "      <td>2</td>\n",
       "      <td>2016</td>\n",
       "      <td>5</td>\n",
       "      <td>2</td>\n",
       "    </tr>\n",
       "    <tr>\n",
       "      <td>81638</td>\n",
       "      <td>0</td>\n",
       "      <td>52</td>\n",
       "      <td>78</td>\n",
       "      <td>0</td>\n",
       "      <td>1</td>\n",
       "      <td>0</td>\n",
       "      <td>0</td>\n",
       "      <td>0</td>\n",
       "      <td>0</td>\n",
       "      <td>0</td>\n",
       "      <td>4</td>\n",
       "      <td>4</td>\n",
       "      <td>0</td>\n",
       "      <td>2016</td>\n",
       "      <td>5</td>\n",
       "      <td>10</td>\n",
       "      <td>2016</td>\n",
       "      <td>5</td>\n",
       "      <td>10</td>\n",
       "    </tr>\n",
       "    <tr>\n",
       "      <td>59836</td>\n",
       "      <td>1</td>\n",
       "      <td>48</td>\n",
       "      <td>30</td>\n",
       "      <td>0</td>\n",
       "      <td>0</td>\n",
       "      <td>0</td>\n",
       "      <td>0</td>\n",
       "      <td>0</td>\n",
       "      <td>1</td>\n",
       "      <td>1</td>\n",
       "      <td>4</td>\n",
       "      <td>5</td>\n",
       "      <td>27</td>\n",
       "      <td>2016</td>\n",
       "      <td>4</td>\n",
       "      <td>27</td>\n",
       "      <td>2016</td>\n",
       "      <td>5</td>\n",
       "      <td>24</td>\n",
       "    </tr>\n",
       "    <tr>\n",
       "      <td>46455</td>\n",
       "      <td>0</td>\n",
       "      <td>68</td>\n",
       "      <td>43</td>\n",
       "      <td>0</td>\n",
       "      <td>0</td>\n",
       "      <td>0</td>\n",
       "      <td>0</td>\n",
       "      <td>0</td>\n",
       "      <td>0</td>\n",
       "      <td>0</td>\n",
       "      <td>4</td>\n",
       "      <td>0</td>\n",
       "      <td>32</td>\n",
       "      <td>2016</td>\n",
       "      <td>4</td>\n",
       "      <td>15</td>\n",
       "      <td>2016</td>\n",
       "      <td>5</td>\n",
       "      <td>17</td>\n",
       "    </tr>\n",
       "    <tr>\n",
       "      <td>47629</td>\n",
       "      <td>0</td>\n",
       "      <td>71</td>\n",
       "      <td>44</td>\n",
       "      <td>0</td>\n",
       "      <td>1</td>\n",
       "      <td>1</td>\n",
       "      <td>0</td>\n",
       "      <td>0</td>\n",
       "      <td>0</td>\n",
       "      <td>0</td>\n",
       "      <td>4</td>\n",
       "      <td>4</td>\n",
       "      <td>0</td>\n",
       "      <td>2016</td>\n",
       "      <td>5</td>\n",
       "      <td>31</td>\n",
       "      <td>2016</td>\n",
       "      <td>5</td>\n",
       "      <td>31</td>\n",
       "    </tr>\n",
       "    <tr>\n",
       "      <td>91214</td>\n",
       "      <td>0</td>\n",
       "      <td>2</td>\n",
       "      <td>43</td>\n",
       "      <td>0</td>\n",
       "      <td>0</td>\n",
       "      <td>0</td>\n",
       "      <td>0</td>\n",
       "      <td>0</td>\n",
       "      <td>0</td>\n",
       "      <td>0</td>\n",
       "      <td>1</td>\n",
       "      <td>1</td>\n",
       "      <td>0</td>\n",
       "      <td>2016</td>\n",
       "      <td>6</td>\n",
       "      <td>6</td>\n",
       "      <td>2016</td>\n",
       "      <td>6</td>\n",
       "      <td>6</td>\n",
       "    </tr>\n",
       "    <tr>\n",
       "      <td>34275</td>\n",
       "      <td>0</td>\n",
       "      <td>40</td>\n",
       "      <td>68</td>\n",
       "      <td>0</td>\n",
       "      <td>0</td>\n",
       "      <td>0</td>\n",
       "      <td>0</td>\n",
       "      <td>0</td>\n",
       "      <td>0</td>\n",
       "      <td>0</td>\n",
       "      <td>5</td>\n",
       "      <td>5</td>\n",
       "      <td>0</td>\n",
       "      <td>2016</td>\n",
       "      <td>5</td>\n",
       "      <td>18</td>\n",
       "      <td>2016</td>\n",
       "      <td>5</td>\n",
       "      <td>18</td>\n",
       "    </tr>\n",
       "    <tr>\n",
       "      <td>39893</td>\n",
       "      <td>1</td>\n",
       "      <td>50</td>\n",
       "      <td>35</td>\n",
       "      <td>0</td>\n",
       "      <td>0</td>\n",
       "      <td>0</td>\n",
       "      <td>0</td>\n",
       "      <td>0</td>\n",
       "      <td>0</td>\n",
       "      <td>0</td>\n",
       "      <td>0</td>\n",
       "      <td>4</td>\n",
       "      <td>3</td>\n",
       "      <td>2016</td>\n",
       "      <td>5</td>\n",
       "      <td>10</td>\n",
       "      <td>2016</td>\n",
       "      <td>5</td>\n",
       "      <td>13</td>\n",
       "    </tr>\n",
       "  </tbody>\n",
       "</table>\n",
       "</div>"
      ],
      "text/plain": [
       "       Gender  Age  Neighbourhood  Scholarship  Hypertension  Diabetes  \\\n",
       "44659       0    3             35            0             0         0   \n",
       "6680        0   20             68            0             0         0   \n",
       "35058       1   16             25            0             0         0   \n",
       "81638       0   52             78            0             1         0   \n",
       "59836       1   48             30            0             0         0   \n",
       "46455       0   68             43            0             0         0   \n",
       "47629       0   71             44            0             1         1   \n",
       "91214       0    2             43            0             0         0   \n",
       "34275       0   40             68            0             0         0   \n",
       "39893       1   50             35            0             0         0   \n",
       "\n",
       "       Alcoholism  Handicap  SMSReceived  NoShow  AppointmentDayofWeek  \\\n",
       "44659           0         0            0       0                     4   \n",
       "6680            0         0            0       1                     0   \n",
       "35058           0         0            0       0                     1   \n",
       "81638           0         0            0       0                     4   \n",
       "59836           0         0            1       1                     4   \n",
       "46455           0         0            0       0                     4   \n",
       "47629           0         0            0       0                     4   \n",
       "91214           0         0            0       0                     1   \n",
       "34275           0         0            0       0                     5   \n",
       "39893           0         0            0       0                     0   \n",
       "\n",
       "       ScheduledDayofWeek  Waiting_Time_days  ScheduledDay_Y  ScheduledDay_M  \\\n",
       "44659                   4                  0            2016               5   \n",
       "6680                    5                  2            2016               5   \n",
       "35058                   1                  0            2016               5   \n",
       "81638                   4                  0            2016               5   \n",
       "59836                   5                 27            2016               4   \n",
       "46455                   0                 32            2016               4   \n",
       "47629                   4                  0            2016               5   \n",
       "91214                   1                  0            2016               6   \n",
       "34275                   5                  0            2016               5   \n",
       "39893                   4                  3            2016               5   \n",
       "\n",
       "       ScheduledDay_D  AppointmentDay_Y  AppointmentDay_M  AppointmentDay_D  \n",
       "44659              10              2016                 5                10  \n",
       "6680               11              2016                 5                13  \n",
       "35058               2              2016                 5                 2  \n",
       "81638              10              2016                 5                10  \n",
       "59836              27              2016                 5                24  \n",
       "46455              15              2016                 5                17  \n",
       "47629              31              2016                 5                31  \n",
       "91214               6              2016                 6                 6  \n",
       "34275              18              2016                 5                18  \n",
       "39893              10              2016                 5                13  "
      ]
     },
     "execution_count": 81,
     "metadata": {},
     "output_type": "execute_result"
    }
   ],
   "source": [
    "df.sample(n=10)"
   ]
  },
  {
   "cell_type": "code",
   "execution_count": 82,
   "metadata": {},
   "outputs": [],
   "source": [
    "# Get the Dependent and Independent Features.\n",
    "\n",
    "X = df.drop(['NoShow'], axis=1)\n",
    "y = df['NoShow']"
   ]
  },
  {
   "cell_type": "code",
   "execution_count": 83,
   "metadata": {},
   "outputs": [],
   "source": [
    "X_train, X_test, y_train, y_test = train_test_split(X, y, test_size=0.3, random_state=42)"
   ]
  },
  {
   "cell_type": "code",
   "execution_count": 84,
   "metadata": {},
   "outputs": [
    {
     "data": {
      "text/plain": [
       "DecisionTreeClassifier(class_weight=None, criterion='gini', max_depth=None,\n",
       "                       max_features=None, max_leaf_nodes=None,\n",
       "                       min_impurity_decrease=0.0, min_impurity_split=None,\n",
       "                       min_samples_leaf=1, min_samples_split=2,\n",
       "                       min_weight_fraction_leaf=0.0, presort=False,\n",
       "                       random_state=0, splitter='best')"
      ]
     },
     "execution_count": 84,
     "metadata": {},
     "output_type": "execute_result"
    }
   ],
   "source": [
    "# Decision Tree classifier\n",
    "\n",
    "dt_clf = DecisionTreeClassifier(random_state=0)\n",
    "dt_clf.fit(X_train, y_train)"
   ]
  },
  {
   "cell_type": "code",
   "execution_count": 89,
   "metadata": {},
   "outputs": [
    {
     "name": "stdout",
     "output_type": "stream",
     "text": [
      "Feature Importance:\n",
      "\n",
      "Gender -- 0.23\n",
      "Age -- 0.23\n",
      "Neighbourhood -- 0.17\n",
      "Scholarship -- 0.08\n",
      "Hypertension -- 0.08\n",
      "Diabetes -- 0.05\n",
      "Alcoholism -- 0.05\n",
      "Handicap -- 0.04\n",
      "SMSReceived -- 0.02\n",
      "AppointmentDayofWeek -- 0.02\n",
      "ScheduledDayofWeek -- 0.01\n",
      "Waiting_Time_days -- 0.01\n",
      "ScheduledDay_Y -- 0.01\n",
      "ScheduledDay_M -- 0.01\n",
      "ScheduledDay_D -- 0.01\n",
      "AppointmentDay_Y -- 0.00\n",
      "AppointmentDay_M -- 0.00\n",
      "AppointmentDay_D -- 0.00\n"
     ]
    }
   ],
   "source": [
    "print(\"Feature Importance:\\n\")\n",
    "for name, importance in zip(X.columns, np.sort(dt_clf.feature_importances_)[::-1]):\n",
    "    print(f\"{name} -- {importance:.2f}\")"
   ]
  },
  {
   "cell_type": "code",
   "execution_count": 90,
   "metadata": {},
   "outputs": [
    {
     "data": {
      "text/plain": [
       "0.7215972494495884"
      ]
     },
     "execution_count": 90,
     "metadata": {},
     "output_type": "execute_result"
    }
   ],
   "source": [
    "dt_clf.score(X_test, y_test)"
   ]
  },
  {
   "cell_type": "code",
   "execution_count": 91,
   "metadata": {},
   "outputs": [
    {
     "name": "stderr",
     "output_type": "stream",
     "text": [
      "C:\\ProgramData\\Anaconda3\\lib\\site-packages\\sklearn\\ensemble\\forest.py:245: FutureWarning: The default value of n_estimators will change from 10 in version 0.20 to 100 in 0.22.\n",
      "  \"10 in version 0.20 to 100 in 0.22.\", FutureWarning)\n"
     ]
    },
    {
     "data": {
      "text/plain": [
       "RandomForestClassifier(bootstrap=True, class_weight=None, criterion='gini',\n",
       "                       max_depth=None, max_features='auto', max_leaf_nodes=None,\n",
       "                       min_impurity_decrease=0.0, min_impurity_split=None,\n",
       "                       min_samples_leaf=1, min_samples_split=2,\n",
       "                       min_weight_fraction_leaf=0.0, n_estimators=10,\n",
       "                       n_jobs=None, oob_score=False, random_state=42, verbose=0,\n",
       "                       warm_start=False)"
      ]
     },
     "execution_count": 91,
     "metadata": {},
     "output_type": "execute_result"
    }
   ],
   "source": [
    "# Random forest classifier\n",
    "\n",
    "rf_clf = RandomForestClassifier(random_state=42)\n",
    "rf_clf.fit(X_train, y_train)"
   ]
  },
  {
   "cell_type": "code",
   "execution_count": 92,
   "metadata": {},
   "outputs": [
    {
     "name": "stdout",
     "output_type": "stream",
     "text": [
      "Feature Importance:\n",
      "\n",
      "Gender -- 0.29\n",
      "Age -- 0.25\n",
      "Neighbourhood -- 0.13\n",
      "Scholarship -- 0.07\n",
      "Hypertension -- 0.06\n",
      "Diabetes -- 0.04\n",
      "Alcoholism -- 0.03\n",
      "Handicap -- 0.03\n",
      "SMSReceived -- 0.02\n",
      "AppointmentDayofWeek -- 0.01\n",
      "ScheduledDayofWeek -- 0.01\n",
      "Waiting_Time_days -- 0.01\n",
      "ScheduledDay_Y -- 0.01\n",
      "ScheduledDay_M -- 0.01\n",
      "ScheduledDay_D -- 0.01\n",
      "AppointmentDay_Y -- 0.01\n",
      "AppointmentDay_M -- 0.00\n",
      "AppointmentDay_D -- 0.00\n"
     ]
    }
   ],
   "source": [
    "print(\"Feature Importance:\\n\")\n",
    "for name, importance in zip(X.columns, np.sort(rf_clf.feature_importances_)[::-1]):\n",
    "    print(f\"{name} -- {importance:.2f}\")"
   ]
  },
  {
   "cell_type": "code",
   "execution_count": 93,
   "metadata": {},
   "outputs": [
    {
     "data": {
      "text/plain": [
       "0.7797448502578641"
      ]
     },
     "execution_count": 93,
     "metadata": {},
     "output_type": "execute_result"
    }
   ],
   "source": [
    "rf_clf.score(X_test, y_test)"
   ]
  },
  {
   "cell_type": "markdown",
   "metadata": {},
   "source": [
    "''' Grid Search helps to loop through predefined hyperparameters and fit your estimator (model) on your training set. So, in the end, you can select the best parameters from the listed hyperparameters. '''"
   ]
  },
  {
   "cell_type": "code",
   "execution_count": 94,
   "metadata": {},
   "outputs": [
    {
     "name": "stdout",
     "output_type": "stream",
     "text": [
      "Fitting 5 folds for each of 8 candidates, totalling 40 fits\n"
     ]
    },
    {
     "name": "stderr",
     "output_type": "stream",
     "text": [
      "[Parallel(n_jobs=-1)]: Using backend LokyBackend with 4 concurrent workers.\n",
      "[Parallel(n_jobs=-1)]: Done  40 out of  40 | elapsed:   45.8s finished\n"
     ]
    },
    {
     "name": "stdout",
     "output_type": "stream",
     "text": [
      "{'max_depth': 5, 'min_samples_split': 2, 'n_estimators': 10}\n",
      "0.7980836221170637\n"
     ]
    }
   ],
   "source": [
    "# grid search cv\n",
    "\n",
    "params={'n_estimators':[10,20], 'max_depth':[None, 5], 'min_samples_split':[2,3]}\n",
    "rf_clf = RandomForestClassifier(random_state=0)\n",
    "clf_grid = GridSearchCV(rf_clf, params, cv=5, n_jobs=-1, verbose=1)\n",
    "clf_grid.fit(X, y)\n",
    "print(clf_grid.best_params_)\n",
    "print(clf_grid.best_score_)"
   ]
  },
  {
   "cell_type": "markdown",
   "metadata": {},
   "source": [
    "### Conclusion\n",
    "From the above feature importance, we could see that Gender, Age, Scholarship and Hypertension are some of the top features that would help us determine if the patient who has taken an appointment will Show/NoShow.\n",
    "\n",
    "In addition, specialty of the consultation doctor in the dataset could have helped us a lot in making better analysis and predictions for the NoShow of a patient."
   ]
  },
  {
   "cell_type": "code",
   "execution_count": null,
   "metadata": {},
   "outputs": [],
   "source": []
  }
 ],
 "metadata": {
  "kernelspec": {
   "display_name": "Python 3",
   "language": "python",
   "name": "python3"
  },
  "language_info": {
   "codemirror_mode": {
    "name": "ipython",
    "version": 3
   },
   "file_extension": ".py",
   "mimetype": "text/x-python",
   "name": "python",
   "nbconvert_exporter": "python",
   "pygments_lexer": "ipython3",
   "version": "3.7.4"
  }
 },
 "nbformat": 4,
 "nbformat_minor": 2
}
